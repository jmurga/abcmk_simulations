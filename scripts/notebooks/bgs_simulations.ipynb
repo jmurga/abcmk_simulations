{
 "cells": [
  {
   "cell_type": "code",
   "execution_count": 43,
   "metadata": {},
   "outputs": [],
   "source": [
    "import sys\n",
    "import pandas as pd\n",
    "import datatable as dt\n",
    "import numpy as np\n",
    "from multiprocessing import Pool\n",
    "from copy import deepcopy\n",
    "\n",
    "PATH = \"/home/jmurga/mkt/202004\" \n",
    "sys.path.insert(0, PATH + '/scripts/src/')  \n",
    "from py_amkt import *\n",
    "from slim_parser import *"
   ]
  },
  {
   "cell_type": "code",
   "execution_count": 12,
   "metadata": {},
   "outputs": [
    {
     "name": "stdout",
     "output_type": "stream",
     "text": [
      "The rpy2.ipython extension is already loaded. To reload it, use:\n",
      "  %reload_ext rpy2.ipython\n"
     ]
    }
   ],
   "source": [
    "%load_ext rpy2.ipython"
   ]
  },
  {
   "cell_type": "code",
   "execution_count": 13,
   "metadata": {},
   "outputs": [],
   "source": [
    "%%R\n",
    "plot_simulated_alphas = function(df,output){\n",
    "\n",
    "\tif(length(unique(df$alpha_weak)) > 1){\n",
    "\t    df$alpha_weak = factor(df$alpha_weak, labels = c(\"alpha[w]:0.1\",\"alpha[w]:0.2\",\"alpha[w]:0.3\"))\n",
    "\t}else{\n",
    "\t    df$alpha_weak = factor(df$alpha_weak, labels = c(\"alpha[w]:0.1\"))\n",
    "\t}\t\n",
    "\tif(length(unique(df$B)) > 1){\n",
    "\t    df$B = factor(df$B, labels = c(\"B:0.2\",\"B:0.4\",\"B:0.8\",\"B:0.999\"))\n",
    "\t}else{\n",
    "\t    df$B = factor(df$B, labels = c(\"B:0.999\"))\n",
    "\t}\n",
    "\n",
    "\tp = ggplot(df, aes(x=f,y=alphas,color=sfs)) + \n",
    "\t    geom_line() + \n",
    "\t    # geom_hline(data=trues,aes(yintercept=trueAlpha),color = 'gray',linetype = \"dotted\", size = 1) +\n",
    "\t    facet_grid(B~alpha_weak,labeller=label_parsed) + \n",
    "\t    ylim(-0.5,0.5) + \n",
    "\t    scale_color_manual(values=c('black','#ab2710'),name = \"SFS\", labels = c(\"All alleles\",\"Neutral + deleterious\")) + \n",
    "\t    theme_bw() + \n",
    "\t    ylab(expression(alpha)) + \n",
    "\t    xlab('Derived Allele Count') + \n",
    "\t    theme(legend.position=\"bottom\",legend.text=element_text(size=14),plot.title=element_text(hjust=0.5,face='bold'))\n",
    "\n",
    "\tggsave(p,filename=output,dpi=600)\n",
    "    \n",
    "    return(p)\n",
    "}"
   ]
  },
  {
   "cell_type": "markdown",
   "metadata": {},
   "source": [
    "Create the output directory. You should change the directory tree if you clone the github repo"
   ]
  },
  {
   "cell_type": "code",
   "execution_count": 4,
   "metadata": {},
   "outputs": [],
   "source": [
    "!mkdir -p /home/jmurga/mkt/202004/raw_data/simulations "
   ]
  },
  {
   "cell_type": "markdown",
   "metadata": {
    "hidden": true
   },
   "source": [
    "Add the proper packages to your Julia session"
   ]
  },
  {
   "cell_type": "code",
   "execution_count": null,
   "metadata": {
    "hidden": true,
    "scrolled": true
   },
   "outputs": [],
   "source": [
    "!julia -e 'using Pkg;Pkg.add(\"CSV\");Pkg.add(\"DataFrames\");Pkg.add(PackageSpec(path=\"https://github.com/jmurga/MKtest.jl\"))'"
   ]
  },
  {
   "cell_type": "code",
   "execution_count": null,
   "metadata": {},
   "outputs": [],
   "source": [
    "!julia -e 'using Pkg;Pkg.add(\"CSV\");Pkg.add(\"DataFrames\");Pkg.add(PackageSpec(path=\"https://github.com/jmurga/MKtest.jl\"))'"
   ]
  },
  {
   "cell_type": "markdown",
   "metadata": {
    "heading_collapsed": true,
    "tags": [],
    "toc-hr-collapsed": true,
    "toc-nb-collapsed": true
   },
   "source": [
    "# No demography simulations"
   ]
  },
  {
   "cell_type": "markdown",
   "metadata": {
    "hidden": true,
    "jp-MarkdownHeadingCollapsed": true,
    "tags": []
   },
   "source": [
    "## Solving fixation probabilites and mutation rate to simulate with MKtest.jl"
   ]
  },
  {
   "cell_type": "code",
   "execution_count": 2,
   "metadata": {},
   "outputs": [
    {
     "data": {
      "text/html": [
       "<div>\n",
       "<style scoped>\n",
       "    .dataframe tbody tr th:only-of-type {\n",
       "        vertical-align: middle;\n",
       "    }\n",
       "\n",
       "    .dataframe tbody tr th {\n",
       "        vertical-align: top;\n",
       "    }\n",
       "\n",
       "    .dataframe thead th {\n",
       "        text-align: right;\n",
       "    }\n",
       "</style>\n",
       "<table border=\"1\" class=\"dataframe\">\n",
       "  <thead>\n",
       "    <tr style=\"text-align: right;\">\n",
       "      <th></th>\n",
       "      <th>bgs_θ</th>\n",
       "      <th>ppos_l</th>\n",
       "      <th>ppos_h</th>\n",
       "      <th>alpha_weak</th>\n",
       "      <th>alpha</th>\n",
       "      <th>estimation</th>\n",
       "      <th>B</th>\n",
       "      <th>path</th>\n",
       "    </tr>\n",
       "  </thead>\n",
       "  <tbody>\n",
       "    <tr>\n",
       "      <th>0</th>\n",
       "      <td>6.608754e-07</td>\n",
       "      <td>0.003878</td>\n",
       "      <td>0.000312</td>\n",
       "      <td>0.1</td>\n",
       "      <td>0.4</td>\n",
       "      <td>0.25695</td>\n",
       "      <td>0.200</td>\n",
       "      <td>/home/jmurga/mkt/202004/raw_data/simulations/n...</td>\n",
       "    </tr>\n",
       "    <tr>\n",
       "      <th>1</th>\n",
       "      <td>6.608754e-07</td>\n",
       "      <td>0.007741</td>\n",
       "      <td>0.000207</td>\n",
       "      <td>0.2</td>\n",
       "      <td>0.4</td>\n",
       "      <td>0.23094</td>\n",
       "      <td>0.200</td>\n",
       "      <td>/home/jmurga/mkt/202004/raw_data/simulations/n...</td>\n",
       "    </tr>\n",
       "    <tr>\n",
       "      <th>2</th>\n",
       "      <td>6.608754e-07</td>\n",
       "      <td>0.011589</td>\n",
       "      <td>0.000103</td>\n",
       "      <td>0.3</td>\n",
       "      <td>0.4</td>\n",
       "      <td>0.20293</td>\n",
       "      <td>0.200</td>\n",
       "      <td>/home/jmurga/mkt/202004/raw_data/simulations/n...</td>\n",
       "    </tr>\n",
       "    <tr>\n",
       "      <th>3</th>\n",
       "      <td>3.762519e-07</td>\n",
       "      <td>0.003878</td>\n",
       "      <td>0.000312</td>\n",
       "      <td>0.1</td>\n",
       "      <td>0.4</td>\n",
       "      <td>0.31316</td>\n",
       "      <td>0.400</td>\n",
       "      <td>/home/jmurga/mkt/202004/raw_data/simulations/n...</td>\n",
       "    </tr>\n",
       "    <tr>\n",
       "      <th>4</th>\n",
       "      <td>3.762519e-07</td>\n",
       "      <td>0.007741</td>\n",
       "      <td>0.000207</td>\n",
       "      <td>0.2</td>\n",
       "      <td>0.4</td>\n",
       "      <td>0.29547</td>\n",
       "      <td>0.400</td>\n",
       "      <td>/home/jmurga/mkt/202004/raw_data/simulations/n...</td>\n",
       "    </tr>\n",
       "    <tr>\n",
       "      <th>5</th>\n",
       "      <td>3.762519e-07</td>\n",
       "      <td>0.011589</td>\n",
       "      <td>0.000103</td>\n",
       "      <td>0.3</td>\n",
       "      <td>0.4</td>\n",
       "      <td>0.27677</td>\n",
       "      <td>0.400</td>\n",
       "      <td>/home/jmurga/mkt/202004/raw_data/simulations/n...</td>\n",
       "    </tr>\n",
       "    <tr>\n",
       "      <th>6</th>\n",
       "      <td>9.162832e-08</td>\n",
       "      <td>0.003878</td>\n",
       "      <td>0.000312</td>\n",
       "      <td>0.1</td>\n",
       "      <td>0.4</td>\n",
       "      <td>0.37854</td>\n",
       "      <td>0.800</td>\n",
       "      <td>/home/jmurga/mkt/202004/raw_data/simulations/n...</td>\n",
       "    </tr>\n",
       "    <tr>\n",
       "      <th>7</th>\n",
       "      <td>9.162832e-08</td>\n",
       "      <td>0.007741</td>\n",
       "      <td>0.000207</td>\n",
       "      <td>0.2</td>\n",
       "      <td>0.4</td>\n",
       "      <td>0.37436</td>\n",
       "      <td>0.800</td>\n",
       "      <td>/home/jmurga/mkt/202004/raw_data/simulations/n...</td>\n",
       "    </tr>\n",
       "    <tr>\n",
       "      <th>8</th>\n",
       "      <td>9.162832e-08</td>\n",
       "      <td>0.011589</td>\n",
       "      <td>0.000103</td>\n",
       "      <td>0.3</td>\n",
       "      <td>0.4</td>\n",
       "      <td>0.37010</td>\n",
       "      <td>0.800</td>\n",
       "      <td>/home/jmurga/mkt/202004/raw_data/simulations/n...</td>\n",
       "    </tr>\n",
       "    <tr>\n",
       "      <th>9</th>\n",
       "      <td>4.108304e-10</td>\n",
       "      <td>0.003878</td>\n",
       "      <td>0.000312</td>\n",
       "      <td>0.1</td>\n",
       "      <td>0.4</td>\n",
       "      <td>0.40136</td>\n",
       "      <td>0.999</td>\n",
       "      <td>/home/jmurga/mkt/202004/raw_data/simulations/n...</td>\n",
       "    </tr>\n",
       "    <tr>\n",
       "      <th>10</th>\n",
       "      <td>4.108304e-10</td>\n",
       "      <td>0.007741</td>\n",
       "      <td>0.000207</td>\n",
       "      <td>0.2</td>\n",
       "      <td>0.4</td>\n",
       "      <td>0.40250</td>\n",
       "      <td>0.999</td>\n",
       "      <td>/home/jmurga/mkt/202004/raw_data/simulations/n...</td>\n",
       "    </tr>\n",
       "    <tr>\n",
       "      <th>11</th>\n",
       "      <td>4.108304e-10</td>\n",
       "      <td>0.011589</td>\n",
       "      <td>0.000103</td>\n",
       "      <td>0.3</td>\n",
       "      <td>0.4</td>\n",
       "      <td>0.40363</td>\n",
       "      <td>0.999</td>\n",
       "      <td>/home/jmurga/mkt/202004/raw_data/simulations/n...</td>\n",
       "    </tr>\n",
       "  </tbody>\n",
       "</table>\n",
       "</div>"
      ],
      "text/plain": [
       "           bgs_θ    ppos_l    ppos_h  alpha_weak  alpha  estimation      B  \\\n",
       "0   6.608754e-07  0.003878  0.000312         0.1    0.4     0.25695  0.200   \n",
       "1   6.608754e-07  0.007741  0.000207         0.2    0.4     0.23094  0.200   \n",
       "2   6.608754e-07  0.011589  0.000103         0.3    0.4     0.20293  0.200   \n",
       "3   3.762519e-07  0.003878  0.000312         0.1    0.4     0.31316  0.400   \n",
       "4   3.762519e-07  0.007741  0.000207         0.2    0.4     0.29547  0.400   \n",
       "5   3.762519e-07  0.011589  0.000103         0.3    0.4     0.27677  0.400   \n",
       "6   9.162832e-08  0.003878  0.000312         0.1    0.4     0.37854  0.800   \n",
       "7   9.162832e-08  0.007741  0.000207         0.2    0.4     0.37436  0.800   \n",
       "8   9.162832e-08  0.011589  0.000103         0.3    0.4     0.37010  0.800   \n",
       "9   4.108304e-10  0.003878  0.000312         0.1    0.4     0.40136  0.999   \n",
       "10  4.108304e-10  0.007741  0.000207         0.2    0.4     0.40250  0.999   \n",
       "11  4.108304e-10  0.011589  0.000103         0.3    0.4     0.40363  0.999   \n",
       "\n",
       "                                                 path  \n",
       "0   /home/jmurga/mkt/202004/raw_data/simulations/n...  \n",
       "1   /home/jmurga/mkt/202004/raw_data/simulations/n...  \n",
       "2   /home/jmurga/mkt/202004/raw_data/simulations/n...  \n",
       "3   /home/jmurga/mkt/202004/raw_data/simulations/n...  \n",
       "4   /home/jmurga/mkt/202004/raw_data/simulations/n...  \n",
       "5   /home/jmurga/mkt/202004/raw_data/simulations/n...  \n",
       "6   /home/jmurga/mkt/202004/raw_data/simulations/n...  \n",
       "7   /home/jmurga/mkt/202004/raw_data/simulations/n...  \n",
       "8   /home/jmurga/mkt/202004/raw_data/simulations/n...  \n",
       "9   /home/jmurga/mkt/202004/raw_data/simulations/n...  \n",
       "10  /home/jmurga/mkt/202004/raw_data/simulations/n...  \n",
       "11  /home/jmurga/mkt/202004/raw_data/simulations/n...  "
      ]
     },
     "execution_count": 2,
     "metadata": {},
     "output_type": "execute_result"
    }
   ],
   "source": [
    "sim_table = pd.read_csv(PATH + \"/raw_data/simulations/bgs_table_dup.tsv\", sep='\\t')\n",
    "sim_table['path'] = sim_table.apply(lambda row: \"/home/jmurga/mkt/202004/raw_data/simulations/no_demog/no_demog_\" + str(row['alpha']) + \"_\" + str(row['alpha_weak']) + \"_\" + str(np.round(row['B'],4)),axis=1)\n",
    "sim_table"
   ]
  },
  {
   "cell_type": "markdown",
   "metadata": {
    "heading_collapsed": true,
    "hidden": true,
    "jp-MarkdownHeadingCollapsed": true,
    "tags": []
   },
   "source": [
    "## Running SLiM"
   ]
  },
  {
   "cell_type": "markdown",
   "metadata": {
    "hidden": true
   },
   "source": [
    "We run SLiM into and HPC enviroment due to the amount of replicas. Please copy outputs to the proper path after run the simulations. Here is the SLURM script:"
   ]
  },
  {
   "cell_type": "markdown",
   "metadata": {},
   "source": [
    "```bash\n",
    "#!/bin/bash\n",
    "\n",
    "#SBATCH --partition=standard\n",
    "#SBATCH --job-name=no_demog\n",
    "#SBATCH --time=12:00:00\n",
    "#SBATCH --mail-type=ALL\n",
    "#SBATCH --mail-user=jesus.murga@uab.cat\n",
    "#SBACTH --array=1-50000\n",
    "\n",
    "DPATH=\"/xdisk/denard/mig2020/rsgrps/denard\"\n",
    "\n",
    "module load slim\n",
    "module load parallel\n",
    "\n",
    "# Each command takes about 12hours to run using this configuration\n",
    "\n",
    "##########BGS 0.2\n",
    "\n",
    "parallel -j200 -u \"slim -d N=500 -d sampleSize=500 -d wS=10 -d sS=500 -d muBgs=6.608754e-07 -d pposL=0.003877 -d pposH=0.000311 -d nF={} -d output=\\'${DPATH}/jmurga/simulations/no_demog/no_demog_0.4_0.1_0.2\\' ${DPATH}/jmurga/src/bgs.slim\" ::: `seq 1 50000`\n",
    "\n",
    "parallel -j200 -u \"slim -d N=500 -d sampleSize=500 -d wS=10 -d sS=500 -d muBgs=6.608754e-07 -d pposL=0.007739 -d pposH=0.000207 -d nF={} -d output=\\'${DPATH}/jmurga/simulations/no_demog/no_demog_0.4_0.2_0.2\\' ${DPATH}/jmurga/src/bgs.slim\" ::: `seq 1 50000`\n",
    "\n",
    "parallel -j200 -u \"slim -d N=500 -d sampleSize=500 -d wS=10 -d sS=500 -d muBgs=6.608754e-07 -d pposL=0.011586 -d pposH=0.000103 -d nF={} -d output=\\'${DPATH}/jmurga/simulations/no_demog/no_demog_0.4_0.3_0.2\\' ${DPATH}/jmurga/src/bgs.slim\" ::: `seq 1 50000`\n",
    "\n",
    "##########BGS 0.4\n",
    "parallel -j200 -u \"slim -d N=500 -d sampleSize=500 -d wS=10 -d sS=500 -d muBgs=3.762519e-07 -d pposL=0.003877 -d pposH=0.000311 -d nF={} -d output=\\'${DPATH}/jmurga/simulations/no_demog/no_demog_0.4_0.1_0.4\\' ${DPATH}/jmurga/src/bgs.slim\" ::: `seq 1 50000`\n",
    "\n",
    "parallel -j200 -u \"slim -d N=500 -d sampleSize=500 -d wS=10 -d sS=500 -d muBgs=3.762519e-07 -d pposL=0.007739 -d pposH=0.000207 -d nF={} -d output=\\'${DPATH}/jmurga/simulations/no_demog/no_demog_0.4_0.2_0.4\\' ${DPATH}/jmurga/src/bgs.slim\" ::: `seq 1 50000`\n",
    "\n",
    "parallel -j200 -u \"slim -d N=500 -d sampleSize=500 -d wS=10 -d sS=500 -d muBgs=3.762519e-07 -d pposL=0.011586 -d pposH=0.000103 -d nF={} -d output=\\'${DPATH}/jmurga/simulations/no_demog/no_demog_0.4_0.3_0.4\\' ${DPATH}/jmurga/src/bgs.slim\" ::: `seq 1 50000`\n",
    "\n",
    "##########BGS 0.8\n",
    "parallel -j200 -u \"slim -d N=500 -d sampleSize=500 -d wS=10 -d sS=500 -d muBgs=9.162832e-08 -d pposL=0.003877 -d pposH=0.000311 -d nF={} -d output=\\'${DPATH}/jmurga/simulations/no_demog/no_demog_0.4_0.1_0.8\\' ${DPATH}/jmurga/src/bgs.slim\" ::: `seq 1 50000`\n",
    "\n",
    "parallel -j200 -u \"slim -d N=500 -d sampleSize=500 -d wS=10 -d sS=500 -d muBgs=9.162832e-08 -d pposL=0.007739 -d pposH=0.000207 -d nF={} -d output=\\'${DPATH}/jmurga/simulations/no_demog/no_demog_0.4_0.2_0.8\\' ${DPATH}/jmurga/src/bgs.slim\" ::: `seq 1 50000`\n",
    "\n",
    "parallel -j200 -u \"slim -d N=500 -d sampleSize=500 -d wS=10 -d sS=500 -d muBgs=9.162832e-08 -d pposL=0.011586 -d pposH=0.000103 -d nF={} -d output=\\'${DPATH}/jmurga/simulations/no_demog/no_demog_0.4_0.3_0.8\\' ${DPATH}/jmurga/src/bgs.slim\" ::: `seq 1 50000`\n",
    "\n",
    "##########BGS 0.999\n",
    "parallel -j200 -u \"slim -d N=500 -d sampleSize=500 -d wS=10 -d sS=500 -d muBgs=4.108304e-10 -d pposL=0.003877 -d pposH=0.000311 -d nF={} -d output=\\'${DPATH}/jmurga/simulations/no_demog/no_demog_0.4_0.1_0.999\\' ${DPATH}/jmurga/src/bgs.slim\" ::: `seq 1 50000`\n",
    "\n",
    "parallel -j200 -u \"slim -d N=500 -d sampleSize=500 -d wS=10 -d sS=500 -d muBgs=4.108304e-10 -d pposL=0.007739 -d pposH=0.000207 -d nF={} -d output=\\'${DPATH}/jmurga/simulations/no_demog/no_demog_0.4_0.2_0.999\\' ${DPATH}/jmurga/src/bgs.slim\" ::: `seq 1 50000`\n",
    "\n",
    "parallel -j200 -u \"slim -d N=500 -d sampleSize=500 -d wS=10 -d sS=500 -d muBgs=4.108304e-10 -d pposL=0.011586 -d pposH=0.000103 -d nF={} -d output=\\'${DPATH}/jmurga/simulations/no_demog/no_demog_0.4_0.3_0.999\\' ${DPATH}/jmurga/src/bgs.slim\" ::: `seq 1 50000`\n",
    "\n",
    "```"
   ]
  },
  {
   "cell_type": "markdown",
   "metadata": {
    "hidden": true,
    "tags": []
   },
   "source": [
    "## Processing simulated data"
   ]
  },
  {
   "cell_type": "code",
   "execution_count": 5,
   "metadata": {},
   "outputs": [
    {
     "data": {
      "text/html": [
       "<div>\n",
       "<style scoped>\n",
       "    .dataframe tbody tr th:only-of-type {\n",
       "        vertical-align: middle;\n",
       "    }\n",
       "\n",
       "    .dataframe tbody tr th {\n",
       "        vertical-align: top;\n",
       "    }\n",
       "\n",
       "    .dataframe thead th {\n",
       "        text-align: right;\n",
       "    }\n",
       "</style>\n",
       "<table border=\"1\" class=\"dataframe\">\n",
       "  <thead>\n",
       "    <tr style=\"text-align: right;\">\n",
       "      <th></th>\n",
       "      <th>bgs_θ</th>\n",
       "      <th>ppos_l</th>\n",
       "      <th>ppos_h</th>\n",
       "      <th>alpha_weak</th>\n",
       "      <th>alpha</th>\n",
       "      <th>estimation</th>\n",
       "      <th>B</th>\n",
       "      <th>path</th>\n",
       "    </tr>\n",
       "  </thead>\n",
       "  <tbody>\n",
       "    <tr>\n",
       "      <th>0</th>\n",
       "      <td>6.608754e-07</td>\n",
       "      <td>0.003878</td>\n",
       "      <td>0.000312</td>\n",
       "      <td>0.1</td>\n",
       "      <td>0.4</td>\n",
       "      <td>0.25695</td>\n",
       "      <td>0.200</td>\n",
       "      <td>/home/jmurga/mkt/202004/raw_data/simulations/n...</td>\n",
       "    </tr>\n",
       "    <tr>\n",
       "      <th>1</th>\n",
       "      <td>6.608754e-07</td>\n",
       "      <td>0.007741</td>\n",
       "      <td>0.000207</td>\n",
       "      <td>0.2</td>\n",
       "      <td>0.4</td>\n",
       "      <td>0.23094</td>\n",
       "      <td>0.200</td>\n",
       "      <td>/home/jmurga/mkt/202004/raw_data/simulations/n...</td>\n",
       "    </tr>\n",
       "    <tr>\n",
       "      <th>2</th>\n",
       "      <td>6.608754e-07</td>\n",
       "      <td>0.011589</td>\n",
       "      <td>0.000103</td>\n",
       "      <td>0.3</td>\n",
       "      <td>0.4</td>\n",
       "      <td>0.20293</td>\n",
       "      <td>0.200</td>\n",
       "      <td>/home/jmurga/mkt/202004/raw_data/simulations/n...</td>\n",
       "    </tr>\n",
       "    <tr>\n",
       "      <th>3</th>\n",
       "      <td>3.762519e-07</td>\n",
       "      <td>0.003878</td>\n",
       "      <td>0.000312</td>\n",
       "      <td>0.1</td>\n",
       "      <td>0.4</td>\n",
       "      <td>0.31316</td>\n",
       "      <td>0.400</td>\n",
       "      <td>/home/jmurga/mkt/202004/raw_data/simulations/n...</td>\n",
       "    </tr>\n",
       "    <tr>\n",
       "      <th>4</th>\n",
       "      <td>3.762519e-07</td>\n",
       "      <td>0.007741</td>\n",
       "      <td>0.000207</td>\n",
       "      <td>0.2</td>\n",
       "      <td>0.4</td>\n",
       "      <td>0.29547</td>\n",
       "      <td>0.400</td>\n",
       "      <td>/home/jmurga/mkt/202004/raw_data/simulations/n...</td>\n",
       "    </tr>\n",
       "    <tr>\n",
       "      <th>5</th>\n",
       "      <td>3.762519e-07</td>\n",
       "      <td>0.011589</td>\n",
       "      <td>0.000103</td>\n",
       "      <td>0.3</td>\n",
       "      <td>0.4</td>\n",
       "      <td>0.27677</td>\n",
       "      <td>0.400</td>\n",
       "      <td>/home/jmurga/mkt/202004/raw_data/simulations/n...</td>\n",
       "    </tr>\n",
       "    <tr>\n",
       "      <th>6</th>\n",
       "      <td>9.162832e-08</td>\n",
       "      <td>0.003878</td>\n",
       "      <td>0.000312</td>\n",
       "      <td>0.1</td>\n",
       "      <td>0.4</td>\n",
       "      <td>0.37854</td>\n",
       "      <td>0.800</td>\n",
       "      <td>/home/jmurga/mkt/202004/raw_data/simulations/n...</td>\n",
       "    </tr>\n",
       "    <tr>\n",
       "      <th>7</th>\n",
       "      <td>9.162832e-08</td>\n",
       "      <td>0.007741</td>\n",
       "      <td>0.000207</td>\n",
       "      <td>0.2</td>\n",
       "      <td>0.4</td>\n",
       "      <td>0.37436</td>\n",
       "      <td>0.800</td>\n",
       "      <td>/home/jmurga/mkt/202004/raw_data/simulations/n...</td>\n",
       "    </tr>\n",
       "    <tr>\n",
       "      <th>8</th>\n",
       "      <td>9.162832e-08</td>\n",
       "      <td>0.011589</td>\n",
       "      <td>0.000103</td>\n",
       "      <td>0.3</td>\n",
       "      <td>0.4</td>\n",
       "      <td>0.37010</td>\n",
       "      <td>0.800</td>\n",
       "      <td>/home/jmurga/mkt/202004/raw_data/simulations/n...</td>\n",
       "    </tr>\n",
       "    <tr>\n",
       "      <th>9</th>\n",
       "      <td>4.108304e-10</td>\n",
       "      <td>0.003878</td>\n",
       "      <td>0.000312</td>\n",
       "      <td>0.1</td>\n",
       "      <td>0.4</td>\n",
       "      <td>0.40136</td>\n",
       "      <td>0.999</td>\n",
       "      <td>/home/jmurga/mkt/202004/raw_data/simulations/n...</td>\n",
       "    </tr>\n",
       "    <tr>\n",
       "      <th>10</th>\n",
       "      <td>4.108304e-10</td>\n",
       "      <td>0.007741</td>\n",
       "      <td>0.000207</td>\n",
       "      <td>0.2</td>\n",
       "      <td>0.4</td>\n",
       "      <td>0.40250</td>\n",
       "      <td>0.999</td>\n",
       "      <td>/home/jmurga/mkt/202004/raw_data/simulations/n...</td>\n",
       "    </tr>\n",
       "    <tr>\n",
       "      <th>11</th>\n",
       "      <td>4.108304e-10</td>\n",
       "      <td>0.011589</td>\n",
       "      <td>0.000103</td>\n",
       "      <td>0.3</td>\n",
       "      <td>0.4</td>\n",
       "      <td>0.40363</td>\n",
       "      <td>0.999</td>\n",
       "      <td>/home/jmurga/mkt/202004/raw_data/simulations/n...</td>\n",
       "    </tr>\n",
       "  </tbody>\n",
       "</table>\n",
       "</div>"
      ],
      "text/plain": [
       "           bgs_θ    ppos_l    ppos_h  alpha_weak  alpha  estimation      B  \\\n",
       "0   6.608754e-07  0.003878  0.000312         0.1    0.4     0.25695  0.200   \n",
       "1   6.608754e-07  0.007741  0.000207         0.2    0.4     0.23094  0.200   \n",
       "2   6.608754e-07  0.011589  0.000103         0.3    0.4     0.20293  0.200   \n",
       "3   3.762519e-07  0.003878  0.000312         0.1    0.4     0.31316  0.400   \n",
       "4   3.762519e-07  0.007741  0.000207         0.2    0.4     0.29547  0.400   \n",
       "5   3.762519e-07  0.011589  0.000103         0.3    0.4     0.27677  0.400   \n",
       "6   9.162832e-08  0.003878  0.000312         0.1    0.4     0.37854  0.800   \n",
       "7   9.162832e-08  0.007741  0.000207         0.2    0.4     0.37436  0.800   \n",
       "8   9.162832e-08  0.011589  0.000103         0.3    0.4     0.37010  0.800   \n",
       "9   4.108304e-10  0.003878  0.000312         0.1    0.4     0.40136  0.999   \n",
       "10  4.108304e-10  0.007741  0.000207         0.2    0.4     0.40250  0.999   \n",
       "11  4.108304e-10  0.011589  0.000103         0.3    0.4     0.40363  0.999   \n",
       "\n",
       "                                                 path  \n",
       "0   /home/jmurga/mkt/202004/raw_data/simulations/n...  \n",
       "1   /home/jmurga/mkt/202004/raw_data/simulations/n...  \n",
       "2   /home/jmurga/mkt/202004/raw_data/simulations/n...  \n",
       "3   /home/jmurga/mkt/202004/raw_data/simulations/n...  \n",
       "4   /home/jmurga/mkt/202004/raw_data/simulations/n...  \n",
       "5   /home/jmurga/mkt/202004/raw_data/simulations/n...  \n",
       "6   /home/jmurga/mkt/202004/raw_data/simulations/n...  \n",
       "7   /home/jmurga/mkt/202004/raw_data/simulations/n...  \n",
       "8   /home/jmurga/mkt/202004/raw_data/simulations/n...  \n",
       "9   /home/jmurga/mkt/202004/raw_data/simulations/n...  \n",
       "10  /home/jmurga/mkt/202004/raw_data/simulations/n...  \n",
       "11  /home/jmurga/mkt/202004/raw_data/simulations/n...  "
      ]
     },
     "execution_count": 5,
     "metadata": {},
     "output_type": "execute_result"
    }
   ],
   "source": [
    "sim_table"
   ]
  },
  {
   "cell_type": "code",
   "execution_count": 6,
   "metadata": {
    "code_folding": [],
    "hidden": true,
    "scrolled": true,
    "tags": []
   },
   "outputs": [
    {
     "name": "stdout",
     "output_type": "stream",
     "text": [
      "/home/jmurga/mkt/202004/raw_data/simulations/no_demog/no_demog_0.4_0.1_0.2\n"
     ]
    },
    {
     "name": "stderr",
     "output_type": "stream",
     "text": [
      "100%|████████████████████████████| 100/100 [01:36<00:00,  1.04it/s]\n"
     ]
    },
    {
     "name": "stdout",
     "output_type": "stream",
     "text": [
      "/home/jmurga/mkt/202004/raw_data/simulations/no_demog/no_demog_0.4_0.2_0.2\n"
     ]
    },
    {
     "name": "stderr",
     "output_type": "stream",
     "text": [
      "100%|████████████████████████████| 100/100 [01:35<00:00,  1.05it/s]\n"
     ]
    },
    {
     "name": "stdout",
     "output_type": "stream",
     "text": [
      "/home/jmurga/mkt/202004/raw_data/simulations/no_demog/no_demog_0.4_0.3_0.2\n"
     ]
    },
    {
     "name": "stderr",
     "output_type": "stream",
     "text": [
      "100%|████████████████████████████| 100/100 [01:35<00:00,  1.05it/s]\n"
     ]
    },
    {
     "name": "stdout",
     "output_type": "stream",
     "text": [
      "/home/jmurga/mkt/202004/raw_data/simulations/no_demog/no_demog_0.4_0.1_0.4\n"
     ]
    },
    {
     "name": "stderr",
     "output_type": "stream",
     "text": [
      "100%|████████████████████████████| 100/100 [01:34<00:00,  1.06it/s]\n"
     ]
    },
    {
     "name": "stdout",
     "output_type": "stream",
     "text": [
      "/home/jmurga/mkt/202004/raw_data/simulations/no_demog/no_demog_0.4_0.2_0.4\n"
     ]
    },
    {
     "name": "stderr",
     "output_type": "stream",
     "text": [
      "100%|████████████████████████████| 100/100 [01:36<00:00,  1.03it/s]\n"
     ]
    },
    {
     "name": "stdout",
     "output_type": "stream",
     "text": [
      "/home/jmurga/mkt/202004/raw_data/simulations/no_demog/no_demog_0.4_0.3_0.4\n"
     ]
    },
    {
     "name": "stderr",
     "output_type": "stream",
     "text": [
      "100%|████████████████████████████| 100/100 [01:37<00:00,  1.02it/s]\n"
     ]
    },
    {
     "name": "stdout",
     "output_type": "stream",
     "text": [
      "/home/jmurga/mkt/202004/raw_data/simulations/no_demog/no_demog_0.4_0.1_0.8\n"
     ]
    },
    {
     "name": "stderr",
     "output_type": "stream",
     "text": [
      "100%|████████████████████████████| 100/100 [01:38<00:00,  1.01it/s]\n"
     ]
    },
    {
     "name": "stdout",
     "output_type": "stream",
     "text": [
      "/home/jmurga/mkt/202004/raw_data/simulations/no_demog/no_demog_0.4_0.2_0.8\n"
     ]
    },
    {
     "name": "stderr",
     "output_type": "stream",
     "text": [
      "100%|████████████████████████████| 100/100 [01:36<00:00,  1.03it/s]\n"
     ]
    },
    {
     "name": "stdout",
     "output_type": "stream",
     "text": [
      "/home/jmurga/mkt/202004/raw_data/simulations/no_demog/no_demog_0.4_0.3_0.8\n"
     ]
    },
    {
     "name": "stderr",
     "output_type": "stream",
     "text": [
      "100%|████████████████████████████| 100/100 [01:31<00:00,  1.09it/s]\n"
     ]
    },
    {
     "name": "stdout",
     "output_type": "stream",
     "text": [
      "/home/jmurga/mkt/202004/raw_data/simulations/no_demog/no_demog_0.4_0.1_0.999\n"
     ]
    },
    {
     "name": "stderr",
     "output_type": "stream",
     "text": [
      "100%|████████████████████████████| 100/100 [01:36<00:00,  1.04it/s]\n"
     ]
    },
    {
     "name": "stdout",
     "output_type": "stream",
     "text": [
      "/home/jmurga/mkt/202004/raw_data/simulations/no_demog/no_demog_0.4_0.2_0.999\n"
     ]
    },
    {
     "name": "stderr",
     "output_type": "stream",
     "text": [
      "100%|████████████████████████████| 100/100 [01:34<00:00,  1.05it/s]\n"
     ]
    },
    {
     "name": "stdout",
     "output_type": "stream",
     "text": [
      "/home/jmurga/mkt/202004/raw_data/simulations/no_demog/no_demog_0.4_0.3_0.999\n"
     ]
    },
    {
     "name": "stderr",
     "output_type": "stream",
     "text": [
      "100%|████████████████████████████| 100/100 [01:36<00:00,  1.04it/s]\n"
     ]
    }
   ],
   "source": [
    "for index,row in sim_table.iterrows():\n",
    "    print(row.path)\n",
    "    parse_and_bootstrap(row.path,500,nthreads=20,replicas=100)"
   ]
  },
  {
   "cell_type": "code",
   "execution_count": 3,
   "metadata": {
    "hidden": true
   },
   "outputs": [
    {
     "data": {
      "text/html": [
       "<div>\n",
       "<style scoped>\n",
       "    .dataframe tbody tr th:only-of-type {\n",
       "        vertical-align: middle;\n",
       "    }\n",
       "\n",
       "    .dataframe tbody tr th {\n",
       "        vertical-align: top;\n",
       "    }\n",
       "\n",
       "    .dataframe thead th {\n",
       "        text-align: right;\n",
       "    }\n",
       "</style>\n",
       "<table border=\"1\" class=\"dataframe\">\n",
       "  <thead>\n",
       "    <tr style=\"text-align: right;\">\n",
       "      <th></th>\n",
       "      <th>f</th>\n",
       "      <th>alphas</th>\n",
       "      <th>B</th>\n",
       "      <th>alpha_weak</th>\n",
       "      <th>sfs</th>\n",
       "      <th>path</th>\n",
       "    </tr>\n",
       "  </thead>\n",
       "  <tbody>\n",
       "    <tr>\n",
       "      <th>0</th>\n",
       "      <td>0.001001</td>\n",
       "      <td>-0.647849</td>\n",
       "      <td>0.200</td>\n",
       "      <td>0.1</td>\n",
       "      <td>Neutral + deleterious</td>\n",
       "      <td>no_demog_0.4_0.1_0.2</td>\n",
       "    </tr>\n",
       "    <tr>\n",
       "      <th>1</th>\n",
       "      <td>0.002002</td>\n",
       "      <td>-0.407424</td>\n",
       "      <td>0.200</td>\n",
       "      <td>0.1</td>\n",
       "      <td>Neutral + deleterious</td>\n",
       "      <td>no_demog_0.4_0.1_0.2</td>\n",
       "    </tr>\n",
       "    <tr>\n",
       "      <th>2</th>\n",
       "      <td>0.003003</td>\n",
       "      <td>-0.332796</td>\n",
       "      <td>0.200</td>\n",
       "      <td>0.1</td>\n",
       "      <td>Neutral + deleterious</td>\n",
       "      <td>no_demog_0.4_0.1_0.2</td>\n",
       "    </tr>\n",
       "    <tr>\n",
       "      <th>3</th>\n",
       "      <td>0.004004</td>\n",
       "      <td>-0.281825</td>\n",
       "      <td>0.200</td>\n",
       "      <td>0.1</td>\n",
       "      <td>Neutral + deleterious</td>\n",
       "      <td>no_demog_0.4_0.1_0.2</td>\n",
       "    </tr>\n",
       "    <tr>\n",
       "      <th>4</th>\n",
       "      <td>0.005005</td>\n",
       "      <td>-0.245331</td>\n",
       "      <td>0.200</td>\n",
       "      <td>0.1</td>\n",
       "      <td>Neutral + deleterious</td>\n",
       "      <td>no_demog_0.4_0.1_0.2</td>\n",
       "    </tr>\n",
       "    <tr>\n",
       "      <th>...</th>\n",
       "      <td>...</td>\n",
       "      <td>...</td>\n",
       "      <td>...</td>\n",
       "      <td>...</td>\n",
       "      <td>...</td>\n",
       "      <td>...</td>\n",
       "    </tr>\n",
       "    <tr>\n",
       "      <th>994</th>\n",
       "      <td>0.995996</td>\n",
       "      <td>0.066204</td>\n",
       "      <td>0.999</td>\n",
       "      <td>0.3</td>\n",
       "      <td>All alleles</td>\n",
       "      <td>no_demog_0.4_0.3_0.999</td>\n",
       "    </tr>\n",
       "    <tr>\n",
       "      <th>995</th>\n",
       "      <td>0.996997</td>\n",
       "      <td>0.084752</td>\n",
       "      <td>0.999</td>\n",
       "      <td>0.3</td>\n",
       "      <td>All alleles</td>\n",
       "      <td>no_demog_0.4_0.3_0.999</td>\n",
       "    </tr>\n",
       "    <tr>\n",
       "      <th>996</th>\n",
       "      <td>0.997998</td>\n",
       "      <td>0.106332</td>\n",
       "      <td>0.999</td>\n",
       "      <td>0.3</td>\n",
       "      <td>All alleles</td>\n",
       "      <td>no_demog_0.4_0.3_0.999</td>\n",
       "    </tr>\n",
       "    <tr>\n",
       "      <th>997</th>\n",
       "      <td>0.998999</td>\n",
       "      <td>0.035028</td>\n",
       "      <td>0.999</td>\n",
       "      <td>0.3</td>\n",
       "      <td>All alleles</td>\n",
       "      <td>no_demog_0.4_0.3_0.999</td>\n",
       "    </tr>\n",
       "    <tr>\n",
       "      <th>998</th>\n",
       "      <td>1.000000</td>\n",
       "      <td>0.116046</td>\n",
       "      <td>0.999</td>\n",
       "      <td>0.3</td>\n",
       "      <td>All alleles</td>\n",
       "      <td>no_demog_0.4_0.3_0.999</td>\n",
       "    </tr>\n",
       "  </tbody>\n",
       "</table>\n",
       "<p>23976 rows × 6 columns</p>\n",
       "</div>"
      ],
      "text/plain": [
       "            f    alphas      B  alpha_weak                    sfs  \\\n",
       "0    0.001001 -0.647849  0.200         0.1  Neutral + deleterious   \n",
       "1    0.002002 -0.407424  0.200         0.1  Neutral + deleterious   \n",
       "2    0.003003 -0.332796  0.200         0.1  Neutral + deleterious   \n",
       "3    0.004004 -0.281825  0.200         0.1  Neutral + deleterious   \n",
       "4    0.005005 -0.245331  0.200         0.1  Neutral + deleterious   \n",
       "..        ...       ...    ...         ...                    ...   \n",
       "994  0.995996  0.066204  0.999         0.3            All alleles   \n",
       "995  0.996997  0.084752  0.999         0.3            All alleles   \n",
       "996  0.997998  0.106332  0.999         0.3            All alleles   \n",
       "997  0.998999  0.035028  0.999         0.3            All alleles   \n",
       "998  1.000000  0.116046  0.999         0.3            All alleles   \n",
       "\n",
       "                       path  \n",
       "0      no_demog_0.4_0.1_0.2  \n",
       "1      no_demog_0.4_0.1_0.2  \n",
       "2      no_demog_0.4_0.1_0.2  \n",
       "3      no_demog_0.4_0.1_0.2  \n",
       "4      no_demog_0.4_0.1_0.2  \n",
       "..                      ...  \n",
       "994  no_demog_0.4_0.3_0.999  \n",
       "995  no_demog_0.4_0.3_0.999  \n",
       "996  no_demog_0.4_0.3_0.999  \n",
       "997  no_demog_0.4_0.3_0.999  \n",
       "998  no_demog_0.4_0.3_0.999  \n",
       "\n",
       "[23976 rows x 6 columns]"
      ]
     },
     "execution_count": 3,
     "metadata": {},
     "output_type": "execute_result"
    }
   ],
   "source": [
    "df,df_alpha = save_simulated_alphas(sim_table);\n",
    "df_alpha"
   ]
  },
  {
   "cell_type": "code",
   "execution_count": 6,
   "metadata": {
    "hidden": true
   },
   "outputs": [],
   "source": [
    "df = df.round(3)\n",
    "df_alpha = df_alpha.round(3)"
   ]
  },
  {
   "cell_type": "code",
   "execution_count": 42,
   "metadata": {
    "hidden": true
   },
   "outputs": [],
   "source": [
    "df.to_csv(PATH + '/results/simulations/slim/no_demog/simulated_alphas.tsv',index=False,sep='\\t',header=True)"
   ]
  },
  {
   "cell_type": "code",
   "execution_count": 43,
   "metadata": {
    "hidden": true
   },
   "outputs": [],
   "source": [
    "df_alpha.to_csv(PATH + '/results/simulations/slim/no_demog/simulated_to_plot_all.tsv',index=False,sep='\\t',header=True)"
   ]
  },
  {
   "cell_type": "code",
   "execution_count": 7,
   "metadata": {
    "hidden": true
   },
   "outputs": [],
   "source": [
    "df_alpha['path'] = pd.Categorical(df_alpha['path'], [\"no_demog_0.4_0.1_0.2\",\"no_demog_0.4_0.2_0.2\",\"no_demog_0.4_0.3_0.2\",\"no_demog_0.4_0.1_0.4\",\"no_demog_0.4_0.2_0.4\",\"no_demog_0.4_0.3_0.4\",\"no_demog_0.4_0.1_0.8\",\"no_demog_0.4_0.2_0.8\",\"no_demog_0.4_0.3_0.8\",\"no_demog_0.4_0.1_0.999\",\"no_demog_0.4_0.2_0.999\",\"no_demog_0.4_0.3_0.999\"])"
   ]
  },
  {
   "cell_type": "code",
   "execution_count": 46,
   "metadata": {},
   "outputs": [],
   "source": [
    "df_alpha = pd.read_csv(PATH + '/results/simulations/slim/no_demog/simulated_to_plot_all.tsv',sep='\\t')"
   ]
  },
  {
   "cell_type": "code",
   "execution_count": 7,
   "metadata": {},
   "outputs": [
    {
     "name": "stderr",
     "output_type": "stream",
     "text": [
      "/home/jmurga/.mamba/lib/python3.9/site-packages/rpy2/robjects/pandas2ri.py:56: UserWarning: DataFrame contains duplicated elements in the index, which will lead to loss of the row names in the resulting data.frame\n",
      "  warnings.warn('DataFrame contains duplicated elements in the index, '\n",
      "R[write to console]: Saving 6.67 x 6.67 in image\n",
      "\n",
      "R[write to console]: Saving 6.67 x 6.67 in image\n",
      "\n",
      "R[write to console]: Saving 6.67 x 6.67 in image\n",
      "\n"
     ]
    },
    {
     "data": {
      "image/png": "[encoded data removed]"
     },
     "metadata": {},
     "output_type": "display_data"
    }
   ],
   "source": [
    "%%R -i PATH -i df_alpha \n",
    "p = plot_simulated_alphas(df = df_alpha,output = paste0(PATH,\"/results/simulations/slim/no_demog/simulated_alphas_dup.svg\"))\n",
    "p = plot_simulated_alphas(df = df_alpha,output = paste0(PATH,\"/results/simulations/slim/no_demog/simulated_alphas_dup.pdf\"))\n",
    "p = plot_simulated_alphas(df = df_alpha,output = paste0(PATH,\"/results/simulations/slim/no_demog/simulated_alphas_dup.png\"))\n",
    "\n",
    "p"
   ]
  },
  {
   "cell_type": "markdown",
   "metadata": {
    "tags": []
   },
   "source": [
    "# Tennesen model"
   ]
  },
  {
   "cell_type": "markdown",
   "metadata": {
    "jp-MarkdownHeadingCollapsed": true,
    "tags": []
   },
   "source": [
    "## Solving fixantion probabilites to simulate with MKtest.jl"
   ]
  },
  {
   "cell_type": "code",
   "execution_count": null,
   "metadata": {},
   "outputs": [],
   "source": [
    "!julia /home/jmurga/mkt/202004/scripts/src/sim_table.jl 7310 661 200000 tennesen"
   ]
  },
  {
   "cell_type": "code",
   "execution_count": 51,
   "metadata": {},
   "outputs": [
    {
     "data": {
      "text/html": [
       "<div>\n",
       "<style scoped>\n",
       "    .dataframe tbody tr th:only-of-type {\n",
       "        vertical-align: middle;\n",
       "    }\n",
       "\n",
       "    .dataframe tbody tr th {\n",
       "        vertical-align: top;\n",
       "    }\n",
       "\n",
       "    .dataframe thead th {\n",
       "        text-align: right;\n",
       "    }\n",
       "</style>\n",
       "<table border=\"1\" class=\"dataframe\">\n",
       "  <thead>\n",
       "    <tr style=\"text-align: right;\">\n",
       "      <th></th>\n",
       "      <th>bgs_θ</th>\n",
       "      <th>ppos_l</th>\n",
       "      <th>ppos_h</th>\n",
       "      <th>alpha_weak</th>\n",
       "      <th>alpha</th>\n",
       "      <th>estimation</th>\n",
       "      <th>B</th>\n",
       "      <th>path</th>\n",
       "    </tr>\n",
       "  </thead>\n",
       "  <tbody>\n",
       "    <tr>\n",
       "      <th>0</th>\n",
       "      <td>9.040704e-08</td>\n",
       "      <td>0.003860</td>\n",
       "      <td>0.000239</td>\n",
       "      <td>0.1</td>\n",
       "      <td>0.4</td>\n",
       "      <td>0.25688</td>\n",
       "      <td>0.200</td>\n",
       "      <td>/home/jmurga/mkt/202004/raw_data/simulations/i...</td>\n",
       "    </tr>\n",
       "    <tr>\n",
       "      <th>1</th>\n",
       "      <td>9.040704e-08</td>\n",
       "      <td>0.007705</td>\n",
       "      <td>0.000159</td>\n",
       "      <td>0.2</td>\n",
       "      <td>0.4</td>\n",
       "      <td>0.23086</td>\n",
       "      <td>0.200</td>\n",
       "      <td>/home/jmurga/mkt/202004/raw_data/simulations/i...</td>\n",
       "    </tr>\n",
       "    <tr>\n",
       "      <th>2</th>\n",
       "      <td>9.040704e-08</td>\n",
       "      <td>0.011536</td>\n",
       "      <td>0.000079</td>\n",
       "      <td>0.3</td>\n",
       "      <td>0.4</td>\n",
       "      <td>0.20285</td>\n",
       "      <td>0.200</td>\n",
       "      <td>/home/jmurga/mkt/202004/raw_data/simulations/i...</td>\n",
       "    </tr>\n",
       "    <tr>\n",
       "      <th>3</th>\n",
       "      <td>5.147085e-08</td>\n",
       "      <td>0.003860</td>\n",
       "      <td>0.000239</td>\n",
       "      <td>0.1</td>\n",
       "      <td>0.4</td>\n",
       "      <td>0.31311</td>\n",
       "      <td>0.400</td>\n",
       "      <td>/home/jmurga/mkt/202004/raw_data/simulations/i...</td>\n",
       "    </tr>\n",
       "    <tr>\n",
       "      <th>4</th>\n",
       "      <td>5.147085e-08</td>\n",
       "      <td>0.007705</td>\n",
       "      <td>0.000159</td>\n",
       "      <td>0.2</td>\n",
       "      <td>0.4</td>\n",
       "      <td>0.29542</td>\n",
       "      <td>0.400</td>\n",
       "      <td>/home/jmurga/mkt/202004/raw_data/simulations/i...</td>\n",
       "    </tr>\n",
       "    <tr>\n",
       "      <th>5</th>\n",
       "      <td>5.147085e-08</td>\n",
       "      <td>0.011536</td>\n",
       "      <td>0.000079</td>\n",
       "      <td>0.3</td>\n",
       "      <td>0.4</td>\n",
       "      <td>0.27673</td>\n",
       "      <td>0.400</td>\n",
       "      <td>/home/jmurga/mkt/202004/raw_data/simulations/i...</td>\n",
       "    </tr>\n",
       "    <tr>\n",
       "      <th>6</th>\n",
       "      <td>1.253465e-08</td>\n",
       "      <td>0.003860</td>\n",
       "      <td>0.000239</td>\n",
       "      <td>0.1</td>\n",
       "      <td>0.4</td>\n",
       "      <td>0.37851</td>\n",
       "      <td>0.800</td>\n",
       "      <td>/home/jmurga/mkt/202004/raw_data/simulations/i...</td>\n",
       "    </tr>\n",
       "    <tr>\n",
       "      <th>7</th>\n",
       "      <td>1.253465e-08</td>\n",
       "      <td>0.007705</td>\n",
       "      <td>0.000159</td>\n",
       "      <td>0.2</td>\n",
       "      <td>0.4</td>\n",
       "      <td>0.37433</td>\n",
       "      <td>0.800</td>\n",
       "      <td>/home/jmurga/mkt/202004/raw_data/simulations/i...</td>\n",
       "    </tr>\n",
       "    <tr>\n",
       "      <th>8</th>\n",
       "      <td>1.253465e-08</td>\n",
       "      <td>0.011536</td>\n",
       "      <td>0.000079</td>\n",
       "      <td>0.3</td>\n",
       "      <td>0.4</td>\n",
       "      <td>0.37008</td>\n",
       "      <td>0.800</td>\n",
       "      <td>/home/jmurga/mkt/202004/raw_data/simulations/i...</td>\n",
       "    </tr>\n",
       "    <tr>\n",
       "      <th>9</th>\n",
       "      <td>5.620116e-11</td>\n",
       "      <td>0.003860</td>\n",
       "      <td>0.000239</td>\n",
       "      <td>0.1</td>\n",
       "      <td>0.4</td>\n",
       "      <td>0.40134</td>\n",
       "      <td>0.999</td>\n",
       "      <td>/home/jmurga/mkt/202004/raw_data/simulations/i...</td>\n",
       "    </tr>\n",
       "    <tr>\n",
       "      <th>10</th>\n",
       "      <td>5.620116e-11</td>\n",
       "      <td>0.007705</td>\n",
       "      <td>0.000159</td>\n",
       "      <td>0.2</td>\n",
       "      <td>0.4</td>\n",
       "      <td>0.40248</td>\n",
       "      <td>0.999</td>\n",
       "      <td>/home/jmurga/mkt/202004/raw_data/simulations/i...</td>\n",
       "    </tr>\n",
       "    <tr>\n",
       "      <th>11</th>\n",
       "      <td>5.620116e-11</td>\n",
       "      <td>0.011536</td>\n",
       "      <td>0.000079</td>\n",
       "      <td>0.3</td>\n",
       "      <td>0.4</td>\n",
       "      <td>0.40362</td>\n",
       "      <td>0.999</td>\n",
       "      <td>/home/jmurga/mkt/202004/raw_data/simulations/i...</td>\n",
       "    </tr>\n",
       "  </tbody>\n",
       "</table>\n",
       "</div>"
      ],
      "text/plain": [
       "           bgs_θ    ppos_l    ppos_h  alpha_weak  alpha  estimation      B  \\\n",
       "0   9.040704e-08  0.003860  0.000239         0.1    0.4     0.25688  0.200   \n",
       "1   9.040704e-08  0.007705  0.000159         0.2    0.4     0.23086  0.200   \n",
       "2   9.040704e-08  0.011536  0.000079         0.3    0.4     0.20285  0.200   \n",
       "3   5.147085e-08  0.003860  0.000239         0.1    0.4     0.31311  0.400   \n",
       "4   5.147085e-08  0.007705  0.000159         0.2    0.4     0.29542  0.400   \n",
       "5   5.147085e-08  0.011536  0.000079         0.3    0.4     0.27673  0.400   \n",
       "6   1.253465e-08  0.003860  0.000239         0.1    0.4     0.37851  0.800   \n",
       "7   1.253465e-08  0.007705  0.000159         0.2    0.4     0.37433  0.800   \n",
       "8   1.253465e-08  0.011536  0.000079         0.3    0.4     0.37008  0.800   \n",
       "9   5.620116e-11  0.003860  0.000239         0.1    0.4     0.40134  0.999   \n",
       "10  5.620116e-11  0.007705  0.000159         0.2    0.4     0.40248  0.999   \n",
       "11  5.620116e-11  0.011536  0.000079         0.3    0.4     0.40362  0.999   \n",
       "\n",
       "                                                 path  \n",
       "0   /home/jmurga/mkt/202004/raw_data/simulations/i...  \n",
       "1   /home/jmurga/mkt/202004/raw_data/simulations/i...  \n",
       "2   /home/jmurga/mkt/202004/raw_data/simulations/i...  \n",
       "3   /home/jmurga/mkt/202004/raw_data/simulations/i...  \n",
       "4   /home/jmurga/mkt/202004/raw_data/simulations/i...  \n",
       "5   /home/jmurga/mkt/202004/raw_data/simulations/i...  \n",
       "6   /home/jmurga/mkt/202004/raw_data/simulations/i...  \n",
       "7   /home/jmurga/mkt/202004/raw_data/simulations/i...  \n",
       "8   /home/jmurga/mkt/202004/raw_data/simulations/i...  \n",
       "9   /home/jmurga/mkt/202004/raw_data/simulations/i...  \n",
       "10  /home/jmurga/mkt/202004/raw_data/simulations/i...  \n",
       "11  /home/jmurga/mkt/202004/raw_data/simulations/i...  "
      ]
     },
     "execution_count": 51,
     "metadata": {},
     "output_type": "execute_result"
    }
   ],
   "source": [
    "sim_table = pd.read_csv(PATH + \"/raw_data/simulations/tennesen.tsv\", sep='\\t')\n",
    "sim_table['path'] = sim_table.apply(lambda row: \"/home/jmurga/mkt/202004/raw_data/simulations/isolation/isolation_\" + str(row['alpha']) + \"_\" + str(row['alpha_weak']) + \"_\" + str(np.round(row['B'],4)),axis=1)\n",
    "sim_table"
   ]
  },
  {
   "cell_type": "markdown",
   "metadata": {
    "heading_collapsed": true,
    "jp-MarkdownHeadingCollapsed": true,
    "tags": []
   },
   "source": [
    "## Running SLiM"
   ]
  },
  {
   "cell_type": "markdown",
   "metadata": {},
   "source": [
    "We run SLiM into and HPC enviroment due to the amount of replicas. Please copy outputs to the proper path after run the simulations. Here is the SLURM script:"
   ]
  },
  {
   "cell_type": "markdown",
   "metadata": {
    "hidden": true
   },
   "source": [
    "```bash\n",
    "#!/bin/bash\n",
    "\n",
    "#SBATCH --partition=standard\n",
    "#SBATCH --job-name=isolation\n",
    "#SBATCH --time=12:00:00\n",
    "#SBATCH --mail-type=ALL\n",
    "#SBATCH --mail-user=jesus.murga@uab.cat\n",
    "#SBACTH --array=1-50000\n",
    "\n",
    "DPATH=\"/xdisk/denard/mig2020/rsgrps/denard\"\n",
    "\n",
    "module load slim\n",
    "module load parallel\n",
    "\n",
    "# Each command takes about 12hours to run using this configuration\n",
    "\n",
    "##########BGS 0.2\n",
    "\n",
    "parallel -j200 -u \"slim -d N=7310 -d sampleSize=661 -d wS=10 -d sS=500 -d muBgs=9.040704e-08 -d pposL=0.003860 -d pposH=0.000239 -d nF={} -d output=\\'${DPATH}/jmurga/simulations/no_demog/no_demog_0.4_0.1_0.2\\' ${DPATH}/jmurga/src/bgs.slim\" ::: `seq 1 50000`\n",
    "\n",
    "parallel -j200 -u \"slim -d N=7310 -d sampleSize=661 -d wS=10 -d sS=500 -d muBgs=9.040704e-08 -d pposL=0.007705 -d pposH=0.000159 -d nF={} -d output=\\'${DPATH}/jmurga/simulations/no_demog/no_demog_0.4_0.2_0.2\\' ${DPATH}/jmurga/src/bgs.slim\" ::: `seq 1 50000`\n",
    "\n",
    "parallel -j200 -u \"slim -d N=7310 -d sampleSize=661 -d wS=10 -d sS=500 -d muBgs=9.040704e-08 -d pposL=0.011536 -d pposH=0.000079 -d nF={} -d output=\\'${DPATH}/jmurga/simulations/no_demog/no_demog_0.4_0.3_0.2\\' ${DPATH}/jmurga/src/bgs.slim\" ::: `seq 1 50000`\n",
    "\n",
    "##########BGS 0.4\n",
    "parallel -j200 -u \"slim -d N=7310 -d sampleSize=661 -d wS=10 -d sS=500 -d muBgs=5.147085e-08 -d pposL=0.003860 -d pposH=0.000239 -d nF={} -d output=\\'${DPATH}/jmurga/simulations/no_demog/no_demog_0.4_0.1_0.4\\' ${DPATH}/jmurga/src/bgs.slim\" ::: `seq 1 50000`\n",
    "\n",
    "parallel -j200 -u \"slim -d N=7310 -d sampleSize=661 -d wS=10 -d sS=500 -d muBgs=5.147085e-08 -d pposL=0.007705 -d pposH=0.000159 -d nF={} -d output=\\'${DPATH}/jmurga/simulations/no_demog/no_demog_0.4_0.2_0.4\\' ${DPATH}/jmurga/src/bgs.slim\" ::: `seq 1 50000`\n",
    "\n",
    "parallel -j200 -u \"slim -d N=7310 -d sampleSize=661 -d wS=10 -d sS=500 -d muBgs=5.147085e-08 -d pposL=0.011536 -d pposH=0.000079 -d nF={} -d output=\\'${DPATH}/jmurga/simulations/no_demog/no_demog_0.4_0.3_0.4\\' ${DPATH}/jmurga/src/bgs.slim\" ::: `seq 1 50000`\n",
    "\n",
    "##########BGS 0.8\n",
    "parallel -j200 -u \"slim -d N=7310 -d sampleSize=661 -d wS=10 -d sS=500 -d muBgs=1.253465e-08 -d pposL=0.003860 -d pposH=0.000239 -d nF={} -d output=\\'${DPATH}/jmurga/simulations/no_demog/no_demog_0.4_0.1_0.8\\' ${DPATH}/jmurga/src/bgs.slim\" ::: `seq 1 50000`\n",
    "\n",
    "parallel -j200 -u \"slim -d N=7310 -d sampleSize=661 -d wS=10 -d sS=500 -d muBgs=1.253465e-08 -d pposL=0.007705 -d pposH=0.000159 -d nF={} -d output=\\'${DPATH}/jmurga/simulations/no_demog/no_demog_0.4_0.2_0.8\\' ${DPATH}/jmurga/src/bgs.slim\" ::: `seq 1 50000`\n",
    "\n",
    "parallel -j200 -u \"slim -d N=7310 -d sampleSize=661 -d wS=10 -d sS=500 -d muBgs=1.253465e-08 -d pposL=0.011536 -d pposH=0.000079 -d nF={} -d output=\\'${DPATH}/jmurga/simulations/no_demog/no_demog_0.4_0.3_0.8\\' ${DPATH}/jmurga/src/bgs.slim\" ::: `seq 1 50000`\n",
    "\n",
    "##########BGS 0.999\n",
    "parallel -j200 -u \"slim -d N=7310 -d sampleSize=661 -d wS=10 -d sS=500 -d muBgs=5.620116e-11 -d pposL=0.003860 -d pposH=0.000239 -d nF={} -d output=\\'${DPATH}/jmurga/simulations/no_demog/no_demog_0.4_0.1_0.999\\' ${DPATH}/jmurga/src/bgs.slim\" ::: `seq 1 50000`\n",
    "\n",
    "parallel -j200 -u \"slim -d N=7310 -d sampleSize=661 -d wS=10 -d sS=500 -d muBgs=5.620116e-11 -d pposL=0.007705 -d pposH=0.000159 -d nF={} -d output=\\'${DPATH}/jmurga/simulations/no_demog/no_demog_0.4_0.2_0.999\\' ${DPATH}/jmurga/src/bgs.slim\" ::: `seq 1 50000`\n",
    "\n",
    "parallel -j200 -u \"slim -d N=7310 -d sampleSize=661 -d wS=10 -d sS=500 -d muBgs=5.620116e-11 -d pposL=0.011536 -d pposH=0.000079 -d nF={} -d output=\\'${DPATH}/jmurga/simulations/no_demog/no_demog_0.4_0.3_0.999\\' ${DPATH}/jmurga/src/bgs.slim\" ::: `seq 1 50000`\n",
    "\n",
    "```"
   ]
  },
  {
   "cell_type": "markdown",
   "metadata": {
    "tags": []
   },
   "source": [
    "## Processing simulated data"
   ]
  },
  {
   "cell_type": "code",
   "execution_count": 18,
   "metadata": {
    "scrolled": true
   },
   "outputs": [
    {
     "name": "stdout",
     "output_type": "stream",
     "text": [
      "/home/jmurga/mkt/202004/raw_data/simulations/isolation/isolation_0.4_0.3_0.8\n"
     ]
    },
    {
     "name": "stderr",
     "output_type": "stream",
     "text": [
      "100%|████████████████████████████| 100/100 [01:56<00:00,  1.17s/it]\n"
     ]
    },
    {
     "name": "stdout",
     "output_type": "stream",
     "text": [
      "/home/jmurga/mkt/202004/raw_data/simulations/isolation/isolation_0.4_0.1_0.999\n"
     ]
    },
    {
     "name": "stderr",
     "output_type": "stream",
     "text": [
      "100%|████████████████████████████| 100/100 [01:57<00:00,  1.18s/it]\n"
     ]
    },
    {
     "name": "stdout",
     "output_type": "stream",
     "text": [
      "/home/jmurga/mkt/202004/raw_data/simulations/isolation/isolation_0.4_0.2_0.999\n"
     ]
    },
    {
     "name": "stderr",
     "output_type": "stream",
     "text": [
      "100%|████████████████████████████| 100/100 [01:54<00:00,  1.14s/it]\n"
     ]
    },
    {
     "name": "stdout",
     "output_type": "stream",
     "text": [
      "/home/jmurga/mkt/202004/raw_data/simulations/isolation/isolation_0.4_0.3_0.999\n"
     ]
    },
    {
     "name": "stderr",
     "output_type": "stream",
     "text": [
      "100%|████████████████████████████| 100/100 [01:56<00:00,  1.17s/it]\n"
     ]
    }
   ],
   "source": [
    "for index,row in sim_table.tail(4).iterrows():\n",
    "    print(row.path)\n",
    "    parse_and_bootstrap(row.path,661,nthreads=20,replicas=100)"
   ]
  },
  {
   "cell_type": "code",
   "execution_count": 52,
   "metadata": {
    "hidden": true
   },
   "outputs": [
    {
     "data": {
      "text/html": [
       "<div>\n",
       "<style scoped>\n",
       "    .dataframe tbody tr th:only-of-type {\n",
       "        vertical-align: middle;\n",
       "    }\n",
       "\n",
       "    .dataframe tbody tr th {\n",
       "        vertical-align: top;\n",
       "    }\n",
       "\n",
       "    .dataframe thead th {\n",
       "        text-align: right;\n",
       "    }\n",
       "</style>\n",
       "<table border=\"1\" class=\"dataframe\">\n",
       "  <thead>\n",
       "    <tr style=\"text-align: right;\">\n",
       "      <th></th>\n",
       "      <th>f</th>\n",
       "      <th>alphas</th>\n",
       "      <th>B</th>\n",
       "      <th>alpha_weak</th>\n",
       "      <th>sfs</th>\n",
       "      <th>path</th>\n",
       "    </tr>\n",
       "  </thead>\n",
       "  <tbody>\n",
       "    <tr>\n",
       "      <th>0</th>\n",
       "      <td>0.000757</td>\n",
       "      <td>-0.579612</td>\n",
       "      <td>0.200</td>\n",
       "      <td>0.1</td>\n",
       "      <td>Neutral + deleterious</td>\n",
       "      <td>isolation_0.4_0.1_0.2</td>\n",
       "    </tr>\n",
       "    <tr>\n",
       "      <th>1</th>\n",
       "      <td>0.001514</td>\n",
       "      <td>-0.285116</td>\n",
       "      <td>0.200</td>\n",
       "      <td>0.1</td>\n",
       "      <td>Neutral + deleterious</td>\n",
       "      <td>isolation_0.4_0.1_0.2</td>\n",
       "    </tr>\n",
       "    <tr>\n",
       "      <th>2</th>\n",
       "      <td>0.002271</td>\n",
       "      <td>-0.206509</td>\n",
       "      <td>0.200</td>\n",
       "      <td>0.1</td>\n",
       "      <td>Neutral + deleterious</td>\n",
       "      <td>isolation_0.4_0.1_0.2</td>\n",
       "    </tr>\n",
       "    <tr>\n",
       "      <th>3</th>\n",
       "      <td>0.003028</td>\n",
       "      <td>-0.166259</td>\n",
       "      <td>0.200</td>\n",
       "      <td>0.1</td>\n",
       "      <td>Neutral + deleterious</td>\n",
       "      <td>isolation_0.4_0.1_0.2</td>\n",
       "    </tr>\n",
       "    <tr>\n",
       "      <th>4</th>\n",
       "      <td>0.003785</td>\n",
       "      <td>-0.142003</td>\n",
       "      <td>0.200</td>\n",
       "      <td>0.1</td>\n",
       "      <td>Neutral + deleterious</td>\n",
       "      <td>isolation_0.4_0.1_0.2</td>\n",
       "    </tr>\n",
       "    <tr>\n",
       "      <th>...</th>\n",
       "      <td>...</td>\n",
       "      <td>...</td>\n",
       "      <td>...</td>\n",
       "      <td>...</td>\n",
       "      <td>...</td>\n",
       "      <td>...</td>\n",
       "    </tr>\n",
       "    <tr>\n",
       "      <th>1316</th>\n",
       "      <td>0.996972</td>\n",
       "      <td>-0.003480</td>\n",
       "      <td>0.999</td>\n",
       "      <td>0.3</td>\n",
       "      <td>All alleles</td>\n",
       "      <td>isolation_0.4_0.3_0.999</td>\n",
       "    </tr>\n",
       "    <tr>\n",
       "      <th>1317</th>\n",
       "      <td>0.997729</td>\n",
       "      <td>-0.028202</td>\n",
       "      <td>0.999</td>\n",
       "      <td>0.3</td>\n",
       "      <td>All alleles</td>\n",
       "      <td>isolation_0.4_0.3_0.999</td>\n",
       "    </tr>\n",
       "    <tr>\n",
       "      <th>1318</th>\n",
       "      <td>0.998486</td>\n",
       "      <td>0.100722</td>\n",
       "      <td>0.999</td>\n",
       "      <td>0.3</td>\n",
       "      <td>All alleles</td>\n",
       "      <td>isolation_0.4_0.3_0.999</td>\n",
       "    </tr>\n",
       "    <tr>\n",
       "      <th>1319</th>\n",
       "      <td>0.999243</td>\n",
       "      <td>0.207779</td>\n",
       "      <td>0.999</td>\n",
       "      <td>0.3</td>\n",
       "      <td>All alleles</td>\n",
       "      <td>isolation_0.4_0.3_0.999</td>\n",
       "    </tr>\n",
       "    <tr>\n",
       "      <th>1320</th>\n",
       "      <td>1.000000</td>\n",
       "      <td>0.266462</td>\n",
       "      <td>0.999</td>\n",
       "      <td>0.3</td>\n",
       "      <td>All alleles</td>\n",
       "      <td>isolation_0.4_0.3_0.999</td>\n",
       "    </tr>\n",
       "  </tbody>\n",
       "</table>\n",
       "<p>31704 rows × 6 columns</p>\n",
       "</div>"
      ],
      "text/plain": [
       "             f    alphas      B  alpha_weak                    sfs  \\\n",
       "0     0.000757 -0.579612  0.200         0.1  Neutral + deleterious   \n",
       "1     0.001514 -0.285116  0.200         0.1  Neutral + deleterious   \n",
       "2     0.002271 -0.206509  0.200         0.1  Neutral + deleterious   \n",
       "3     0.003028 -0.166259  0.200         0.1  Neutral + deleterious   \n",
       "4     0.003785 -0.142003  0.200         0.1  Neutral + deleterious   \n",
       "...        ...       ...    ...         ...                    ...   \n",
       "1316  0.996972 -0.003480  0.999         0.3            All alleles   \n",
       "1317  0.997729 -0.028202  0.999         0.3            All alleles   \n",
       "1318  0.998486  0.100722  0.999         0.3            All alleles   \n",
       "1319  0.999243  0.207779  0.999         0.3            All alleles   \n",
       "1320  1.000000  0.266462  0.999         0.3            All alleles   \n",
       "\n",
       "                         path  \n",
       "0       isolation_0.4_0.1_0.2  \n",
       "1       isolation_0.4_0.1_0.2  \n",
       "2       isolation_0.4_0.1_0.2  \n",
       "3       isolation_0.4_0.1_0.2  \n",
       "4       isolation_0.4_0.1_0.2  \n",
       "...                       ...  \n",
       "1316  isolation_0.4_0.3_0.999  \n",
       "1317  isolation_0.4_0.3_0.999  \n",
       "1318  isolation_0.4_0.3_0.999  \n",
       "1319  isolation_0.4_0.3_0.999  \n",
       "1320  isolation_0.4_0.3_0.999  \n",
       "\n",
       "[31704 rows x 6 columns]"
      ]
     },
     "execution_count": 52,
     "metadata": {},
     "output_type": "execute_result"
    }
   ],
   "source": [
    "df,df_alpha = save_simulated_alphas(sim_table);\n",
    "df_alpha"
   ]
  },
  {
   "cell_type": "code",
   "execution_count": 53,
   "metadata": {
    "hidden": true
   },
   "outputs": [],
   "source": [
    "df = df.round(3)\n",
    "df_alpha = df_alpha.round(3)"
   ]
  },
  {
   "cell_type": "code",
   "execution_count": 42,
   "metadata": {
    "hidden": true
   },
   "outputs": [],
   "source": [
    "df.to_csv(PATH + '/results/simulations/slim/isolation/simulated_alphas.tsv',index=False,sep='\\t',header=True)"
   ]
  },
  {
   "cell_type": "code",
   "execution_count": 43,
   "metadata": {
    "hidden": true
   },
   "outputs": [],
   "source": [
    "df_alpha.to_csv(PATH + '/results/simulations/slim/isolation/simulated_to_plot_all.tsv',index=False,sep='\\t',header=True)"
   ]
  },
  {
   "cell_type": "code",
   "execution_count": 7,
   "metadata": {
    "hidden": true
   },
   "outputs": [],
   "source": [
    "df_alpha['path'] = pd.Categorical(df_alpha['path'], [\"isolation_0.4_0.1_0.2\",\"isolation_0.4_0.2_0.2\",\"isolation_0.4_0.3_0.2\",\"isolation_0.4_0.1_0.4\",\"isolation_0.4_0.2_0.4\",\"isolation_0.4_0.3_0.4\",\"isolation_0.4_0.1_0.8\",\"isolation_0.4_0.2_0.8\",\"isolation_0.4_0.3_0.8\",\"isolation_0.4_0.1_0.999\",\"isolation_0.4_0.2_0.999\",\"isolation_0.4_0.3_0.999\"])"
   ]
  },
  {
   "cell_type": "code",
   "execution_count": 46,
   "metadata": {},
   "outputs": [],
   "source": [
    "df_alpha = pd.read_csv(PATH + '/results/simulations/slim/no_demog/simulated_to_plot_all.tsv',sep='\\t')"
   ]
  },
  {
   "cell_type": "code",
   "execution_count": 54,
   "metadata": {},
   "outputs": [
    {
     "name": "stderr",
     "output_type": "stream",
     "text": [
      "/home/jmurga/.mamba/lib/python3.9/site-packages/rpy2/robjects/pandas2ri.py:56: UserWarning: DataFrame contains duplicated elements in the index, which will lead to loss of the row names in the resulting data.frame\n",
      "  warnings.warn('DataFrame contains duplicated elements in the index, '\n",
      "R[write to console]: Saving 6.67 x 6.67 in image\n",
      "\n",
      "R[write to console]: Saving 6.67 x 6.67 in image\n",
      "\n",
      "R[write to console]: Saving 6.67 x 6.67 in image\n",
      "\n"
     ]
    },
    {
     "data": {
      "image/png": "[encoded data removed]"
     },
     "metadata": {},
     "output_type": "display_data"
    }
   ],
   "source": [
    "%%R -i PATH -i df_alpha \n",
    "p = plot_simulated_alphas(df = df_alpha,output = paste0(PATH,\"/results/simulations/slim/isolation/simulated_alphas_dup.svg\"))\n",
    "p = plot_simulated_alphas(df = df_alpha,output = paste0(PATH,\"/results/simulations/slim/isolation/simulated_alphas_dup.pdf\"))\n",
    "p = plot_simulated_alphas(df = df_alpha,output = paste0(PATH,\"/results/simulations/slim/isolation/simulated_alphas_dup.png\"))\n",
    "\n",
    "p"
   ]
  },
  {
   "cell_type": "markdown",
   "metadata": {
    "tags": []
   },
   "source": [
    "# Two-epoch model"
   ]
  },
  {
   "cell_type": "markdown",
   "metadata": {
    "hidden": true,
    "tags": []
   },
   "source": [
    "## Solving fixation probabilites and mutation rate to simulate with MKtest.jl"
   ]
  },
  {
   "cell_type": "code",
   "execution_count": 20,
   "metadata": {
    "hidden": true
   },
   "outputs": [],
   "source": [
    "!julia /home/jmurga/mkt/202004/scripts/src/sim_table.jl 1000 50 200000 twoepochs"
   ]
  },
  {
   "cell_type": "code",
   "execution_count": 66,
   "metadata": {},
   "outputs": [
    {
     "data": {
      "text/plain": [
       "array(['/home/jmurga/mkt/202004/raw_data/simulations/twoepochs/bt_moderate_0.4',\n",
       "       '/home/jmurga/mkt/202004/raw_data/simulations/twoepochs/bt_moderate_0.999',\n",
       "       '/home/jmurga/mkt/202004/raw_data/simulations/twoepochs/bt_strong_0.4',\n",
       "       '/home/jmurga/mkt/202004/raw_data/simulations/twoepochs/bt_strong_0.999',\n",
       "       '/home/jmurga/mkt/202004/raw_data/simulations/twoepochs/exp_moderate_0.4',\n",
       "       '/home/jmurga/mkt/202004/raw_data/simulations/twoepochs/exp_moderate_0.999',\n",
       "       '/home/jmurga/mkt/202004/raw_data/simulations/twoepochs/exp_strong_0.4',\n",
       "       '/home/jmurga/mkt/202004/raw_data/simulations/twoepochs/exp_strong_0.999'],\n",
       "      dtype=object)"
      ]
     },
     "execution_count": 66,
     "metadata": {},
     "output_type": "execute_result"
    }
   ],
   "source": [
    "sim_table = pd.read_csv(PATH + \"/raw_data/simulations/twoepochs.tsv\", sep='\\t')\n",
    "sim_table = sim_table[(sim_table.B == 0.4) | (sim_table.B == 0.999)]\n",
    "sim_table = sim_table[sim_table.alpha_weak == 0.2]\n",
    "tmp = []\n",
    "for i in [\"bt_moderate\",\"bt_strong\",\"exp_moderate\",\"exp_strong\"]:\n",
    "    x = deepcopy(sim_table)\n",
    "    x['path'] = x.apply(lambda row: \"/home/jmurga/mkt/202004/raw_data/simulations/twoepochs/\"+i + \"_\" + str(row['B']),axis=1)\n",
    "    tmp.append(x)\n",
    "    \n",
    "sim_table = pd.concat(tmp)\n",
    "sim_table.path.values"
   ]
  },
  {
   "cell_type": "markdown",
   "metadata": {
    "tags": []
   },
   "source": [
    "## Running SLiM"
   ]
  },
  {
   "cell_type": "markdown",
   "metadata": {},
   "source": [
    "We run SLiM into and HPC enviroment due to the amount of replicas. Please copy outputs to the proper path after run the simulations. Here is the SLURM scripts:"
   ]
  },
  {
   "cell_type": "markdown",
   "metadata": {},
   "source": [
    "#### Exponential growth"
   ]
  },
  {
   "cell_type": "markdown",
   "metadata": {},
   "source": [
    "```bash\n",
    "#!/bin/bash\n",
    "\n",
    "#SBATCH --partition=standard\n",
    "#SBATCH --job-name=isolation\n",
    "#SBATCH --time=12:00:00\n",
    "#SBATCH --mail-type=ALL\n",
    "#SBATCH --mail-user=jesus.murga@uab.cat\n",
    "#SBACTH --array=1-50000\n",
    "\n",
    "DPATH=\"/xdisk/denard/mig2020/rsgrps/denard\"\n",
    "\n",
    "module load slim\n",
    "module load parallel\n",
    "\n",
    "# Each command takes about 12hours to run using this configuration\n",
    "\n",
    "parallel -j200 -u \"slim -d ft=5.0 -d nF={} -d sample_size=50 -d mu=6.37967e-17 -d p=\\'${DPATH}/jmurga/simulations/twoepoch_exp/exp_moderate_0.999/\\' ${DPATH}/jmurga/src/two_epoch_rescaled.slim\" ::: `seq 1 50000`\n",
    "parallel -j200 -u \"slim -d ft=50.0 -d nF={} -d sample_size=50 -d mu=6.37967e-17 -d p=\\'${DPATH}/jmurga/simulations/twoepoch_exp/exp_strong_0.999/\\' ${DPATH}/jmurga/src/two_epoch_rescaled.slim\" ::: `seq 1 50000`\n",
    "\n",
    "parallel -j200 -u \"slim -d ft=5.0 -d nF={} -d sample_size=50 -d mu=6.37967e-7 -d p=\\'${DPATH}/jmurga/simulations/twoepoch_exp\n",
    "twoepoch_exp/exp_moderate_0.4/\\' ${DPATH}/jmurga/src/two_epoch_rescaled.slim\" ::: `seq 1 50000`\n",
    "parallel -j200 -u \"slim -d ft=50.0 -d nF={} -d sample_size=50 -d mu=6.37967e-7 -d p=\\'${DPATH}/jmurga/simulations/twoepoch_exp\n",
    "twoepoch_exp/exp_strong_0.4/\\' ${DPATH}/jmurga/src/two_epoch_rescaled.slim\" ::: `seq 1 50000` \n",
    "```"
   ]
  },
  {
   "cell_type": "markdown",
   "metadata": {},
   "source": [
    "#### Bottleneck"
   ]
  },
  {
   "cell_type": "markdown",
   "metadata": {},
   "source": [
    "```bash\n",
    "#!/bin/bash\n",
    "\n",
    "#SBATCH --partition=standard\n",
    "#SBATCH --job-name=isolation\n",
    "#SBATCH --time=12:00:00\n",
    "#SBATCH --mail-type=ALL\n",
    "#SBATCH --mail-user=jesus.murga@uab.cat\n",
    "#SBACTH --array=1-50000\n",
    "\n",
    "DPATH=\"/xdisk/denard/mig2020/rsgrps/denard\"\n",
    "\n",
    "module load slim\n",
    "module load parallel\n",
    "\n",
    "# Each command takes about 12hours to run using this configuration\n",
    "\n",
    "parallel -j200 -u \"slim -d ft=0.2 -d nF={} -d sample_size=50 -d mu=6.37967e-17 -d p=\\'${DPATH}/jmurga/simulations/twoepoch_bneck/bt_moderate_0.999/\\' ${DPATH}/jmurga/src/two_epoch_rescaled.slim\" ::: `seq 1 50000`\n",
    "parallel -j200 -u \"slim -d ft=0.05 -d nF={} -d sample_size=50 -d mu=6.37967e-17 -d p=\\'${DPATH}/jmurga/simulations/twoepoch_bneck/bt_strong_0.999/\\' ${DPATH}/jmurga/src/two_epoch_rescaled.slim\" ::: `seq 1 50000`\n",
    "\n",
    "parallel -j200 -u \"slim -d ft=0.2 -d nF={} -d sample_size=50 -d mu=6.37967e-7 -d p=\\'${DPATH}/jmurga/simulations/twoepoch_bneck/bt_moderate_0.4/\\' ${DPATH}/jmurga/src/two_epoch_rescaled.slim\" ::: `seq 1 50000`\n",
    "parallel -j200 -u \"slim -d ft=0.05 -d nF={} -d sample_size=50 -d mu=6.37967e-7 -d p=\\'${DPATH}/jmurga/simulations/twoepoch_bneck/bt_strong_0.4/\\' ${DPATH}/jmurga/src/two_epoch_rescaled.slim\" ::: `seq 1 50000` \n",
    "```"
   ]
  },
  {
   "cell_type": "markdown",
   "metadata": {
    "hidden": true,
    "tags": []
   },
   "source": [
    "## Processing simulated data"
   ]
  },
  {
   "cell_type": "code",
   "execution_count": 62,
   "metadata": {},
   "outputs": [
    {
     "data": {
      "text/html": [
       "<div>\n",
       "<style scoped>\n",
       "    .dataframe tbody tr th:only-of-type {\n",
       "        vertical-align: middle;\n",
       "    }\n",
       "\n",
       "    .dataframe tbody tr th {\n",
       "        vertical-align: top;\n",
       "    }\n",
       "\n",
       "    .dataframe thead th {\n",
       "        text-align: right;\n",
       "    }\n",
       "</style>\n",
       "<table border=\"1\" class=\"dataframe\">\n",
       "  <thead>\n",
       "    <tr style=\"text-align: right;\">\n",
       "      <th></th>\n",
       "      <th>bgs_θ</th>\n",
       "      <th>ppos_l</th>\n",
       "      <th>ppos_h</th>\n",
       "      <th>alpha_weak</th>\n",
       "      <th>alpha</th>\n",
       "      <th>estimation</th>\n",
       "      <th>B</th>\n",
       "      <th>path</th>\n",
       "    </tr>\n",
       "  </thead>\n",
       "  <tbody>\n",
       "    <tr>\n",
       "      <th>4</th>\n",
       "      <td>3.762519e-07</td>\n",
       "      <td>0.007741</td>\n",
       "      <td>0.000207</td>\n",
       "      <td>0.2</td>\n",
       "      <td>0.4</td>\n",
       "      <td>0.29361</td>\n",
       "      <td>0.400</td>\n",
       "      <td>/home/jmurga/mkt/202004/raw_data/simulations/t...</td>\n",
       "    </tr>\n",
       "    <tr>\n",
       "      <th>10</th>\n",
       "      <td>4.108304e-10</td>\n",
       "      <td>0.007741</td>\n",
       "      <td>0.000207</td>\n",
       "      <td>0.2</td>\n",
       "      <td>0.4</td>\n",
       "      <td>0.40090</td>\n",
       "      <td>0.999</td>\n",
       "      <td>/home/jmurga/mkt/202004/raw_data/simulations/t...</td>\n",
       "    </tr>\n",
       "    <tr>\n",
       "      <th>4</th>\n",
       "      <td>3.762519e-07</td>\n",
       "      <td>0.007741</td>\n",
       "      <td>0.000207</td>\n",
       "      <td>0.2</td>\n",
       "      <td>0.4</td>\n",
       "      <td>0.29361</td>\n",
       "      <td>0.400</td>\n",
       "      <td>/home/jmurga/mkt/202004/raw_data/simulations/t...</td>\n",
       "    </tr>\n",
       "    <tr>\n",
       "      <th>10</th>\n",
       "      <td>4.108304e-10</td>\n",
       "      <td>0.007741</td>\n",
       "      <td>0.000207</td>\n",
       "      <td>0.2</td>\n",
       "      <td>0.4</td>\n",
       "      <td>0.40090</td>\n",
       "      <td>0.999</td>\n",
       "      <td>/home/jmurga/mkt/202004/raw_data/simulations/t...</td>\n",
       "    </tr>\n",
       "    <tr>\n",
       "      <th>4</th>\n",
       "      <td>3.762519e-07</td>\n",
       "      <td>0.007741</td>\n",
       "      <td>0.000207</td>\n",
       "      <td>0.2</td>\n",
       "      <td>0.4</td>\n",
       "      <td>0.29361</td>\n",
       "      <td>0.400</td>\n",
       "      <td>/home/jmurga/mkt/202004/raw_data/simulations/t...</td>\n",
       "    </tr>\n",
       "    <tr>\n",
       "      <th>10</th>\n",
       "      <td>4.108304e-10</td>\n",
       "      <td>0.007741</td>\n",
       "      <td>0.000207</td>\n",
       "      <td>0.2</td>\n",
       "      <td>0.4</td>\n",
       "      <td>0.40090</td>\n",
       "      <td>0.999</td>\n",
       "      <td>/home/jmurga/mkt/202004/raw_data/simulations/t...</td>\n",
       "    </tr>\n",
       "    <tr>\n",
       "      <th>4</th>\n",
       "      <td>3.762519e-07</td>\n",
       "      <td>0.007741</td>\n",
       "      <td>0.000207</td>\n",
       "      <td>0.2</td>\n",
       "      <td>0.4</td>\n",
       "      <td>0.29361</td>\n",
       "      <td>0.400</td>\n",
       "      <td>/home/jmurga/mkt/202004/raw_data/simulations/t...</td>\n",
       "    </tr>\n",
       "    <tr>\n",
       "      <th>10</th>\n",
       "      <td>4.108304e-10</td>\n",
       "      <td>0.007741</td>\n",
       "      <td>0.000207</td>\n",
       "      <td>0.2</td>\n",
       "      <td>0.4</td>\n",
       "      <td>0.40090</td>\n",
       "      <td>0.999</td>\n",
       "      <td>/home/jmurga/mkt/202004/raw_data/simulations/t...</td>\n",
       "    </tr>\n",
       "  </tbody>\n",
       "</table>\n",
       "</div>"
      ],
      "text/plain": [
       "           bgs_θ    ppos_l    ppos_h  alpha_weak  alpha  estimation      B  \\\n",
       "4   3.762519e-07  0.007741  0.000207         0.2    0.4     0.29361  0.400   \n",
       "10  4.108304e-10  0.007741  0.000207         0.2    0.4     0.40090  0.999   \n",
       "4   3.762519e-07  0.007741  0.000207         0.2    0.4     0.29361  0.400   \n",
       "10  4.108304e-10  0.007741  0.000207         0.2    0.4     0.40090  0.999   \n",
       "4   3.762519e-07  0.007741  0.000207         0.2    0.4     0.29361  0.400   \n",
       "10  4.108304e-10  0.007741  0.000207         0.2    0.4     0.40090  0.999   \n",
       "4   3.762519e-07  0.007741  0.000207         0.2    0.4     0.29361  0.400   \n",
       "10  4.108304e-10  0.007741  0.000207         0.2    0.4     0.40090  0.999   \n",
       "\n",
       "                                                 path  \n",
       "4   /home/jmurga/mkt/202004/raw_data/simulations/t...  \n",
       "10  /home/jmurga/mkt/202004/raw_data/simulations/t...  \n",
       "4   /home/jmurga/mkt/202004/raw_data/simulations/t...  \n",
       "10  /home/jmurga/mkt/202004/raw_data/simulations/t...  \n",
       "4   /home/jmurga/mkt/202004/raw_data/simulations/t...  \n",
       "10  /home/jmurga/mkt/202004/raw_data/simulations/t...  \n",
       "4   /home/jmurga/mkt/202004/raw_data/simulations/t...  \n",
       "10  /home/jmurga/mkt/202004/raw_data/simulations/t...  "
      ]
     },
     "execution_count": 62,
     "metadata": {},
     "output_type": "execute_result"
    }
   ],
   "source": [
    "sim_table"
   ]
  },
  {
   "cell_type": "code",
   "execution_count": 67,
   "metadata": {
    "code_folding": [],
    "hidden": true,
    "scrolled": true,
    "tags": []
   },
   "outputs": [
    {
     "name": "stdout",
     "output_type": "stream",
     "text": [
      "/home/jmurga/mkt/202004/raw_data/simulations/twoepochs/bt_moderate_0.4\n"
     ]
    },
    {
     "name": "stderr",
     "output_type": "stream",
     "text": [
      "100%|████████████████████████████| 100/100 [00:15<00:00,  6.52it/s]\n"
     ]
    },
    {
     "name": "stdout",
     "output_type": "stream",
     "text": [
      "/home/jmurga/mkt/202004/raw_data/simulations/twoepochs/bt_moderate_0.999\n"
     ]
    },
    {
     "name": "stderr",
     "output_type": "stream",
     "text": [
      "100%|████████████████████████████| 100/100 [00:15<00:00,  6.40it/s]\n"
     ]
    },
    {
     "name": "stdout",
     "output_type": "stream",
     "text": [
      "/home/jmurga/mkt/202004/raw_data/simulations/twoepochs/bt_strong_0.4\n"
     ]
    },
    {
     "name": "stderr",
     "output_type": "stream",
     "text": [
      "100%|████████████████████████████| 100/100 [00:15<00:00,  6.29it/s]\n"
     ]
    },
    {
     "name": "stdout",
     "output_type": "stream",
     "text": [
      "/home/jmurga/mkt/202004/raw_data/simulations/twoepochs/bt_strong_0.999\n"
     ]
    },
    {
     "name": "stderr",
     "output_type": "stream",
     "text": [
      "100%|████████████████████████████| 100/100 [00:15<00:00,  6.38it/s]\n"
     ]
    },
    {
     "name": "stdout",
     "output_type": "stream",
     "text": [
      "/home/jmurga/mkt/202004/raw_data/simulations/twoepochs/exp_moderate_0.4\n"
     ]
    },
    {
     "name": "stderr",
     "output_type": "stream",
     "text": [
      "100%|████████████████████████████| 100/100 [00:14<00:00,  6.68it/s]\n"
     ]
    },
    {
     "name": "stdout",
     "output_type": "stream",
     "text": [
      "/home/jmurga/mkt/202004/raw_data/simulations/twoepochs/exp_moderate_0.999\n"
     ]
    },
    {
     "name": "stderr",
     "output_type": "stream",
     "text": [
      "100%|████████████████████████████| 100/100 [00:15<00:00,  6.58it/s]\n"
     ]
    },
    {
     "name": "stdout",
     "output_type": "stream",
     "text": [
      "/home/jmurga/mkt/202004/raw_data/simulations/twoepochs/exp_strong_0.4\n"
     ]
    },
    {
     "name": "stderr",
     "output_type": "stream",
     "text": [
      "100%|████████████████████████████| 100/100 [00:15<00:00,  6.44it/s]\n"
     ]
    },
    {
     "name": "stdout",
     "output_type": "stream",
     "text": [
      "/home/jmurga/mkt/202004/raw_data/simulations/twoepochs/exp_strong_0.999\n"
     ]
    },
    {
     "name": "stderr",
     "output_type": "stream",
     "text": [
      "100%|████████████████████████████| 100/100 [00:15<00:00,  6.66it/s]\n"
     ]
    }
   ],
   "source": [
    "for index,row in sim_table.iterrows():\n",
    "    print(row.path)\n",
    "    parse_and_bootstrap(row.path,50,nthreads=20,replicas=100)"
   ]
  },
  {
   "cell_type": "code",
   "execution_count": 70,
   "metadata": {
    "hidden": true
   },
   "outputs": [
    {
     "data": {
      "text/html": [
       "<div>\n",
       "<style scoped>\n",
       "    .dataframe tbody tr th:only-of-type {\n",
       "        vertical-align: middle;\n",
       "    }\n",
       "\n",
       "    .dataframe tbody tr th {\n",
       "        vertical-align: top;\n",
       "    }\n",
       "\n",
       "    .dataframe thead th {\n",
       "        text-align: right;\n",
       "    }\n",
       "</style>\n",
       "<table border=\"1\" class=\"dataframe\">\n",
       "  <thead>\n",
       "    <tr style=\"text-align: right;\">\n",
       "      <th></th>\n",
       "      <th>f</th>\n",
       "      <th>alphas</th>\n",
       "      <th>B</th>\n",
       "      <th>alpha_weak</th>\n",
       "      <th>sfs</th>\n",
       "      <th>path</th>\n",
       "    </tr>\n",
       "  </thead>\n",
       "  <tbody>\n",
       "    <tr>\n",
       "      <th>0</th>\n",
       "      <td>0.010101</td>\n",
       "      <td>-0.485812</td>\n",
       "      <td>0.400</td>\n",
       "      <td>0.2</td>\n",
       "      <td>Neutral + deleterious</td>\n",
       "      <td>bt_moderate_0.4</td>\n",
       "    </tr>\n",
       "    <tr>\n",
       "      <th>1</th>\n",
       "      <td>0.020202</td>\n",
       "      <td>-0.326769</td>\n",
       "      <td>0.400</td>\n",
       "      <td>0.2</td>\n",
       "      <td>Neutral + deleterious</td>\n",
       "      <td>bt_moderate_0.4</td>\n",
       "    </tr>\n",
       "    <tr>\n",
       "      <th>2</th>\n",
       "      <td>0.030303</td>\n",
       "      <td>-0.282312</td>\n",
       "      <td>0.400</td>\n",
       "      <td>0.2</td>\n",
       "      <td>Neutral + deleterious</td>\n",
       "      <td>bt_moderate_0.4</td>\n",
       "    </tr>\n",
       "    <tr>\n",
       "      <th>3</th>\n",
       "      <td>0.040404</td>\n",
       "      <td>-0.249439</td>\n",
       "      <td>0.400</td>\n",
       "      <td>0.2</td>\n",
       "      <td>Neutral + deleterious</td>\n",
       "      <td>bt_moderate_0.4</td>\n",
       "    </tr>\n",
       "    <tr>\n",
       "      <th>4</th>\n",
       "      <td>0.050505</td>\n",
       "      <td>-0.222291</td>\n",
       "      <td>0.400</td>\n",
       "      <td>0.2</td>\n",
       "      <td>Neutral + deleterious</td>\n",
       "      <td>bt_moderate_0.4</td>\n",
       "    </tr>\n",
       "    <tr>\n",
       "      <th>...</th>\n",
       "      <td>...</td>\n",
       "      <td>...</td>\n",
       "      <td>...</td>\n",
       "      <td>...</td>\n",
       "      <td>...</td>\n",
       "      <td>...</td>\n",
       "    </tr>\n",
       "    <tr>\n",
       "      <th>94</th>\n",
       "      <td>0.959596</td>\n",
       "      <td>0.138554</td>\n",
       "      <td>0.999</td>\n",
       "      <td>0.2</td>\n",
       "      <td>All alleles</td>\n",
       "      <td>exp_strong_0.999</td>\n",
       "    </tr>\n",
       "    <tr>\n",
       "      <th>95</th>\n",
       "      <td>0.969697</td>\n",
       "      <td>0.147619</td>\n",
       "      <td>0.999</td>\n",
       "      <td>0.2</td>\n",
       "      <td>All alleles</td>\n",
       "      <td>exp_strong_0.999</td>\n",
       "    </tr>\n",
       "    <tr>\n",
       "      <th>96</th>\n",
       "      <td>0.979798</td>\n",
       "      <td>0.152848</td>\n",
       "      <td>0.999</td>\n",
       "      <td>0.2</td>\n",
       "      <td>All alleles</td>\n",
       "      <td>exp_strong_0.999</td>\n",
       "    </tr>\n",
       "    <tr>\n",
       "      <th>97</th>\n",
       "      <td>0.989899</td>\n",
       "      <td>0.089509</td>\n",
       "      <td>0.999</td>\n",
       "      <td>0.2</td>\n",
       "      <td>All alleles</td>\n",
       "      <td>exp_strong_0.999</td>\n",
       "    </tr>\n",
       "    <tr>\n",
       "      <th>98</th>\n",
       "      <td>1.000000</td>\n",
       "      <td>0.060227</td>\n",
       "      <td>0.999</td>\n",
       "      <td>0.2</td>\n",
       "      <td>All alleles</td>\n",
       "      <td>exp_strong_0.999</td>\n",
       "    </tr>\n",
       "  </tbody>\n",
       "</table>\n",
       "<p>1584 rows × 6 columns</p>\n",
       "</div>"
      ],
      "text/plain": [
       "           f    alphas      B  alpha_weak                    sfs  \\\n",
       "0   0.010101 -0.485812  0.400         0.2  Neutral + deleterious   \n",
       "1   0.020202 -0.326769  0.400         0.2  Neutral + deleterious   \n",
       "2   0.030303 -0.282312  0.400         0.2  Neutral + deleterious   \n",
       "3   0.040404 -0.249439  0.400         0.2  Neutral + deleterious   \n",
       "4   0.050505 -0.222291  0.400         0.2  Neutral + deleterious   \n",
       "..       ...       ...    ...         ...                    ...   \n",
       "94  0.959596  0.138554  0.999         0.2            All alleles   \n",
       "95  0.969697  0.147619  0.999         0.2            All alleles   \n",
       "96  0.979798  0.152848  0.999         0.2            All alleles   \n",
       "97  0.989899  0.089509  0.999         0.2            All alleles   \n",
       "98  1.000000  0.060227  0.999         0.2            All alleles   \n",
       "\n",
       "                path  \n",
       "0    bt_moderate_0.4  \n",
       "1    bt_moderate_0.4  \n",
       "2    bt_moderate_0.4  \n",
       "3    bt_moderate_0.4  \n",
       "4    bt_moderate_0.4  \n",
       "..               ...  \n",
       "94  exp_strong_0.999  \n",
       "95  exp_strong_0.999  \n",
       "96  exp_strong_0.999  \n",
       "97  exp_strong_0.999  \n",
       "98  exp_strong_0.999  \n",
       "\n",
       "[1584 rows x 6 columns]"
      ]
     },
     "execution_count": 70,
     "metadata": {},
     "output_type": "execute_result"
    }
   ],
   "source": [
    "df,df_alpha = save_simulated_alphas(sim_table);\n",
    "df_alpha"
   ]
  },
  {
   "cell_type": "code",
   "execution_count": 71,
   "metadata": {
    "hidden": true
   },
   "outputs": [],
   "source": [
    "df = df.round(3)\n",
    "df_alpha = df_alpha.round(3)"
   ]
  },
  {
   "cell_type": "code",
   "execution_count": 42,
   "metadata": {
    "hidden": true
   },
   "outputs": [],
   "source": [
    "df.to_csv(PATH + '/results/simulations/slim/twoepochs/simulated_alphas.tsv',index=False,sep='\\t',header=True)"
   ]
  },
  {
   "cell_type": "code",
   "execution_count": 43,
   "metadata": {
    "hidden": true
   },
   "outputs": [],
   "source": [
    "df_alpha.to_csv(PATH + '/results/simulations/slim/twoepochs/simulated_to_plot_all.tsv',index=False,sep='\\t',header=True)"
   ]
  }
 ],
 "metadata": {
  "kernelspec": {
   "display_name": "Python 3 (ipykernel)",
   "language": "python",
   "name": "python3"
  },
  "language_info": {
   "codemirror_mode": {
    "name": "ipython",
    "version": 3
   },
   "file_extension": ".py",
   "mimetype": "text/x-python",
   "name": "python",
   "nbconvert_exporter": "python",
   "pygments_lexer": "ipython3",
   "version": "3.9.10"
  },
  "toc": {
   "base_numbering": 1,
   "nav_menu": {},
   "number_sections": true,
   "sideBar": true,
   "skip_h1_title": false,
   "title_cell": "Table of Contents",
   "title_sidebar": "Contents",
   "toc_cell": false,
   "toc_position": {
    "height": "calc(100% - 180px)",
    "left": "10px",
    "top": "150px",
    "width": "165px"
   },
   "toc_section_display": true,
   "toc_window_display": false
  },
  "toc-autonumbering": true,
  "toc-showcode": true,
  "toc-showmarkdowntxt": true,
  "toc-showtags": false,
  "varInspector": {
   "cols": {
    "lenName": 16,
    "lenType": 16,
    "lenVar": 40
   },
   "kernels_config": {
    "python": {
     "delete_cmd_postfix": "",
     "delete_cmd_prefix": "del ",
     "library": "var_list.py",
     "varRefreshCmd": "print(var_dic_list())"
    },
    "r": {
     "delete_cmd_postfix": ") ",
     "delete_cmd_prefix": "rm(",
     "library": "var_list.r",
     "varRefreshCmd": "cat(var_dic_list()) "
    }
   },
   "types_to_exclude": [
    "module",
    "function",
    "builtin_function_or_method",
    "instance",
    "_Feature"
   ],
   "window_display": false
  }
 },
 "nbformat": 4,
 "nbformat_minor": 4
}

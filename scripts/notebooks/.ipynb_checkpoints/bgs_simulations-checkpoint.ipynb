{
 "cells": [
  {
   "cell_type": "code",
   "execution_count": 1,
   "metadata": {},
   "outputs": [
    {
     "data": {
      "text/html": [
       "<style type='text/css'>\n",
       ".datatable table.frame { margin-bottom: 0; }\n",
       ".datatable table.frame thead { border-bottom: none; }\n",
       ".datatable table.frame tr.coltypes td {  color: #FFFFFF;  line-height: 6px;  padding: 0 0.5em;}\n",
       ".datatable .bool    { background: #DDDD99; }\n",
       ".datatable .object  { background: #565656; }\n",
       ".datatable .int     { background: #5D9E5D; }\n",
       ".datatable .float   { background: #4040CC; }\n",
       ".datatable .str     { background: #CC4040; }\n",
       ".datatable .time    { background: #40CC40; }\n",
       ".datatable .row_index {  background: var(--jp-border-color3);  border-right: 1px solid var(--jp-border-color0);  color: var(--jp-ui-font-color3);  font-size: 9px;}\n",
       ".datatable .frame tbody td { text-align: left; }\n",
       ".datatable .frame tr.coltypes .row_index {  background: var(--jp-border-color0);}\n",
       ".datatable th:nth-child(2) { padding-left: 12px; }\n",
       ".datatable .hellipsis {  color: var(--jp-cell-editor-border-color);}\n",
       ".datatable .vellipsis {  background: var(--jp-layout-color0);  color: var(--jp-cell-editor-border-color);}\n",
       ".datatable .na {  color: var(--jp-cell-editor-border-color);  font-size: 80%;}\n",
       ".datatable .sp {  opacity: 0.25;}\n",
       ".datatable .footer { font-size: 9px; }\n",
       ".datatable .frame_dimensions {  background: var(--jp-border-color3);  border-top: 1px solid var(--jp-border-color0);  color: var(--jp-ui-font-color3);  display: inline-block;  opacity: 0.6;  padding: 1px 10px 1px 5px;}\n",
       "</style>\n"
      ],
      "text/plain": [
       "<IPython.core.display.HTML object>"
      ]
     },
     "metadata": {},
     "output_type": "display_data"
    }
   ],
   "source": [
    "import sys\n",
    "import pandas as pd\n",
    "import datatable as dt\n",
    "import numpy as np\n",
    "from multiprocessing import Pool\n",
    "\n",
    "PATH = \"/home/jmurga/mkt/202004\" \n",
    "sys.path.insert(0, PATH + '/scripts/src/')  \n",
    "from py_amkt import *\n",
    "from slim_parser import *"
   ]
  },
  {
   "cell_type": "code",
   "execution_count": 5,
   "metadata": {},
   "outputs": [],
   "source": [
    "%load_ext rpy2.ipython"
   ]
  },
  {
   "cell_type": "code",
   "execution_count": 6,
   "metadata": {},
   "outputs": [],
   "source": [
    "%%R\n",
    "plot_simulated_alphas = function(df,output){\n",
    "\n",
    "\tif(length(unique(df$alpha_weak)) > 1){\n",
    "\t    df$alpha_weak = factor(df$alpha_weak, labels = c(\"alpha[w]:0.1\",\"alpha[w]:0.2\",\"alpha[w]:0.3\"))\n",
    "\t}else{\n",
    "\t    df$alpha_weak = factor(df$alpha_weak, labels = c(\"alpha[w]:0.1\"))\n",
    "\t}\t\n",
    "\tif(length(unique(df$B)) > 1){\n",
    "\t    df$B = factor(df$B, labels = c(\"B:0.2\",\"B:0.4\",\"B:0.8\",\"B:0.999\"))\n",
    "\t}else{\n",
    "\t    df$B = factor(df$B, labels = c(\"B:0.999\"))\n",
    "\t}\n",
    "\n",
    "\tp = ggplot(df, aes(x=f,y=alphas,color=sfs)) + \n",
    "\t    geom_line() + \n",
    "\t    # geom_hline(data=trues,aes(yintercept=trueAlpha),color = 'gray',linetype = \"dotted\", size = 1) +\n",
    "\t    facet_grid(B~alpha_weak,labeller=label_parsed) + \n",
    "\t    ylim(-0.5,0.5) + \n",
    "\t    scale_color_manual(values=c('black','#ab2710'),name = \"SFS\", labels = c(\"All alleles\",\"Neutral + deleterious\")) + \n",
    "\t    theme_bw() + \n",
    "\t    ylab(expression(alpha)) + \n",
    "\t    xlab('Derived Allele Count') + \n",
    "\t    theme(legend.position=\"bottom\",legend.text=element_text(size=14),plot.title=element_text(hjust=0.5,face='bold'))\n",
    "\n",
    "\tggsave(p,filename=output,dpi=600)\n",
    "    \n",
    "    return(p)\n",
    "}"
   ]
  },
  {
   "cell_type": "markdown",
   "metadata": {},
   "source": [
    "Create the output directory. You should change the directory tree if you clone the github repo"
   ]
  },
  {
   "cell_type": "code",
   "execution_count": 4,
   "metadata": {},
   "outputs": [],
   "source": [
    "!mkdir -p /home/jmurga/mkt/202004/raw_data/simulations "
   ]
  },
  {
   "cell_type": "markdown",
   "metadata": {
    "heading_collapsed": true,
    "tags": [],
    "toc-hr-collapsed": true,
    "toc-nb-collapsed": true
   },
   "source": [
    "# No demography simulations"
   ]
  },
  {
   "cell_type": "markdown",
   "metadata": {
    "hidden": true,
    "tags": []
   },
   "source": [
    "## Solving fixation probabilites and mutation rate to simulate with MKtest.jl"
   ]
  },
  {
   "cell_type": "code",
   "execution_count": 8,
   "metadata": {
    "hidden": true
   },
   "outputs": [
    {
     "name": "stdout",
     "output_type": "stream",
     "text": [
      "/home/jmurga/julia-1.7.0/bin/julia\n"
     ]
    }
   ],
   "source": [
    "!which julia"
   ]
  },
  {
   "cell_type": "markdown",
   "metadata": {
    "hidden": true
   },
   "source": [
    "Add the proper packages to your Julia session"
   ]
  },
  {
   "cell_type": "code",
   "execution_count": null,
   "metadata": {
    "hidden": true,
    "scrolled": true
   },
   "outputs": [],
   "source": [
    "!julia -e 'using Pkg;Pkg.add(\"CSV\");Pkg.add(\"DataFrames\");Pkg.add(PackageSpec(path=\"https://github.com/jmurga/MKtest.jl\"))'"
   ]
  },
  {
   "cell_type": "code",
   "execution_count": 34,
   "metadata": {
    "hidden": true
   },
   "outputs": [],
   "source": [
    "!julia /home/jmurga/mkt/202004/scripts/src/sim_table.jl 1000 500 200000 bgs_table"
   ]
  },
  {
   "cell_type": "code",
   "execution_count": 2,
   "metadata": {},
   "outputs": [
    {
     "data": {
      "text/html": [
       "<div>\n",
       "<style scoped>\n",
       "    .dataframe tbody tr th:only-of-type {\n",
       "        vertical-align: middle;\n",
       "    }\n",
       "\n",
       "    .dataframe tbody tr th {\n",
       "        vertical-align: top;\n",
       "    }\n",
       "\n",
       "    .dataframe thead th {\n",
       "        text-align: right;\n",
       "    }\n",
       "</style>\n",
       "<table border=\"1\" class=\"dataframe\">\n",
       "  <thead>\n",
       "    <tr style=\"text-align: right;\">\n",
       "      <th></th>\n",
       "      <th>bgs_θ</th>\n",
       "      <th>ppos_l</th>\n",
       "      <th>ppos_h</th>\n",
       "      <th>alpha_weak</th>\n",
       "      <th>alpha</th>\n",
       "      <th>estimation</th>\n",
       "      <th>B</th>\n",
       "      <th>path</th>\n",
       "    </tr>\n",
       "  </thead>\n",
       "  <tbody>\n",
       "    <tr>\n",
       "      <th>0</th>\n",
       "      <td>6.608754e-07</td>\n",
       "      <td>0.003878</td>\n",
       "      <td>0.000312</td>\n",
       "      <td>0.1</td>\n",
       "      <td>0.4</td>\n",
       "      <td>0.25695</td>\n",
       "      <td>0.200</td>\n",
       "      <td>/home/jmurga/mkt/202004/raw_data/simulations/n...</td>\n",
       "    </tr>\n",
       "    <tr>\n",
       "      <th>1</th>\n",
       "      <td>6.608754e-07</td>\n",
       "      <td>0.007741</td>\n",
       "      <td>0.000207</td>\n",
       "      <td>0.2</td>\n",
       "      <td>0.4</td>\n",
       "      <td>0.23094</td>\n",
       "      <td>0.200</td>\n",
       "      <td>/home/jmurga/mkt/202004/raw_data/simulations/n...</td>\n",
       "    </tr>\n",
       "    <tr>\n",
       "      <th>2</th>\n",
       "      <td>6.608754e-07</td>\n",
       "      <td>0.011589</td>\n",
       "      <td>0.000103</td>\n",
       "      <td>0.3</td>\n",
       "      <td>0.4</td>\n",
       "      <td>0.20293</td>\n",
       "      <td>0.200</td>\n",
       "      <td>/home/jmurga/mkt/202004/raw_data/simulations/n...</td>\n",
       "    </tr>\n",
       "    <tr>\n",
       "      <th>3</th>\n",
       "      <td>3.762519e-07</td>\n",
       "      <td>0.003878</td>\n",
       "      <td>0.000312</td>\n",
       "      <td>0.1</td>\n",
       "      <td>0.4</td>\n",
       "      <td>0.31316</td>\n",
       "      <td>0.400</td>\n",
       "      <td>/home/jmurga/mkt/202004/raw_data/simulations/n...</td>\n",
       "    </tr>\n",
       "    <tr>\n",
       "      <th>4</th>\n",
       "      <td>3.762519e-07</td>\n",
       "      <td>0.007741</td>\n",
       "      <td>0.000207</td>\n",
       "      <td>0.2</td>\n",
       "      <td>0.4</td>\n",
       "      <td>0.29547</td>\n",
       "      <td>0.400</td>\n",
       "      <td>/home/jmurga/mkt/202004/raw_data/simulations/n...</td>\n",
       "    </tr>\n",
       "    <tr>\n",
       "      <th>5</th>\n",
       "      <td>3.762519e-07</td>\n",
       "      <td>0.011589</td>\n",
       "      <td>0.000103</td>\n",
       "      <td>0.3</td>\n",
       "      <td>0.4</td>\n",
       "      <td>0.27677</td>\n",
       "      <td>0.400</td>\n",
       "      <td>/home/jmurga/mkt/202004/raw_data/simulations/n...</td>\n",
       "    </tr>\n",
       "    <tr>\n",
       "      <th>6</th>\n",
       "      <td>9.162832e-08</td>\n",
       "      <td>0.003878</td>\n",
       "      <td>0.000312</td>\n",
       "      <td>0.1</td>\n",
       "      <td>0.4</td>\n",
       "      <td>0.37854</td>\n",
       "      <td>0.800</td>\n",
       "      <td>/home/jmurga/mkt/202004/raw_data/simulations/n...</td>\n",
       "    </tr>\n",
       "    <tr>\n",
       "      <th>7</th>\n",
       "      <td>9.162832e-08</td>\n",
       "      <td>0.007741</td>\n",
       "      <td>0.000207</td>\n",
       "      <td>0.2</td>\n",
       "      <td>0.4</td>\n",
       "      <td>0.37436</td>\n",
       "      <td>0.800</td>\n",
       "      <td>/home/jmurga/mkt/202004/raw_data/simulations/n...</td>\n",
       "    </tr>\n",
       "    <tr>\n",
       "      <th>8</th>\n",
       "      <td>9.162832e-08</td>\n",
       "      <td>0.011589</td>\n",
       "      <td>0.000103</td>\n",
       "      <td>0.3</td>\n",
       "      <td>0.4</td>\n",
       "      <td>0.37010</td>\n",
       "      <td>0.800</td>\n",
       "      <td>/home/jmurga/mkt/202004/raw_data/simulations/n...</td>\n",
       "    </tr>\n",
       "    <tr>\n",
       "      <th>9</th>\n",
       "      <td>4.108304e-10</td>\n",
       "      <td>0.003878</td>\n",
       "      <td>0.000312</td>\n",
       "      <td>0.1</td>\n",
       "      <td>0.4</td>\n",
       "      <td>0.40136</td>\n",
       "      <td>0.999</td>\n",
       "      <td>/home/jmurga/mkt/202004/raw_data/simulations/n...</td>\n",
       "    </tr>\n",
       "    <tr>\n",
       "      <th>10</th>\n",
       "      <td>4.108304e-10</td>\n",
       "      <td>0.007741</td>\n",
       "      <td>0.000207</td>\n",
       "      <td>0.2</td>\n",
       "      <td>0.4</td>\n",
       "      <td>0.40250</td>\n",
       "      <td>0.999</td>\n",
       "      <td>/home/jmurga/mkt/202004/raw_data/simulations/n...</td>\n",
       "    </tr>\n",
       "    <tr>\n",
       "      <th>11</th>\n",
       "      <td>4.108304e-10</td>\n",
       "      <td>0.011589</td>\n",
       "      <td>0.000103</td>\n",
       "      <td>0.3</td>\n",
       "      <td>0.4</td>\n",
       "      <td>0.40363</td>\n",
       "      <td>0.999</td>\n",
       "      <td>/home/jmurga/mkt/202004/raw_data/simulations/n...</td>\n",
       "    </tr>\n",
       "  </tbody>\n",
       "</table>\n",
       "</div>"
      ],
      "text/plain": [
       "           bgs_θ    ppos_l    ppos_h  alpha_weak  alpha  estimation      B  \\\n",
       "0   6.608754e-07  0.003878  0.000312         0.1    0.4     0.25695  0.200   \n",
       "1   6.608754e-07  0.007741  0.000207         0.2    0.4     0.23094  0.200   \n",
       "2   6.608754e-07  0.011589  0.000103         0.3    0.4     0.20293  0.200   \n",
       "3   3.762519e-07  0.003878  0.000312         0.1    0.4     0.31316  0.400   \n",
       "4   3.762519e-07  0.007741  0.000207         0.2    0.4     0.29547  0.400   \n",
       "5   3.762519e-07  0.011589  0.000103         0.3    0.4     0.27677  0.400   \n",
       "6   9.162832e-08  0.003878  0.000312         0.1    0.4     0.37854  0.800   \n",
       "7   9.162832e-08  0.007741  0.000207         0.2    0.4     0.37436  0.800   \n",
       "8   9.162832e-08  0.011589  0.000103         0.3    0.4     0.37010  0.800   \n",
       "9   4.108304e-10  0.003878  0.000312         0.1    0.4     0.40136  0.999   \n",
       "10  4.108304e-10  0.007741  0.000207         0.2    0.4     0.40250  0.999   \n",
       "11  4.108304e-10  0.011589  0.000103         0.3    0.4     0.40363  0.999   \n",
       "\n",
       "                                                 path  \n",
       "0   /home/jmurga/mkt/202004/raw_data/simulations/n...  \n",
       "1   /home/jmurga/mkt/202004/raw_data/simulations/n...  \n",
       "2   /home/jmurga/mkt/202004/raw_data/simulations/n...  \n",
       "3   /home/jmurga/mkt/202004/raw_data/simulations/n...  \n",
       "4   /home/jmurga/mkt/202004/raw_data/simulations/n...  \n",
       "5   /home/jmurga/mkt/202004/raw_data/simulations/n...  \n",
       "6   /home/jmurga/mkt/202004/raw_data/simulations/n...  \n",
       "7   /home/jmurga/mkt/202004/raw_data/simulations/n...  \n",
       "8   /home/jmurga/mkt/202004/raw_data/simulations/n...  \n",
       "9   /home/jmurga/mkt/202004/raw_data/simulations/n...  \n",
       "10  /home/jmurga/mkt/202004/raw_data/simulations/n...  \n",
       "11  /home/jmurga/mkt/202004/raw_data/simulations/n...  "
      ]
     },
     "execution_count": 2,
     "metadata": {},
     "output_type": "execute_result"
    }
   ],
   "source": [
    "sim_table = pd.read_csv(PATH + \"/raw_data/simulations/bgs_table_dup.tsv\", sep='\\t')\n",
    "sim_table['path'] = sim_table.apply(lambda row: \"/home/jmurga/mkt/202004/raw_data/simulations/no_demog/no_demog_\" + str(row['alpha']) + \"_\" + str(row['alpha_weak']) + \"_\" + str(np.round(row['B'],4)),axis=1)\n",
    "sim_table"
   ]
  },
  {
   "cell_type": "markdown",
   "metadata": {
    "heading_collapsed": true,
    "hidden": true,
    "jp-MarkdownHeadingCollapsed": true,
    "tags": []
   },
   "source": [
    "### Running SLiM"
   ]
  },
  {
   "cell_type": "markdown",
   "metadata": {
    "hidden": true
   },
   "source": [
    "We run SLiM into and HPC enviroment due to the amount of replicas. Please copy outputs to the proper path after run the simulations. Here is the SLURM script:"
   ]
  },
  {
   "cell_type": "markdown",
   "metadata": {},
   "source": [
    "```bash\n",
    "#!/bin/bash\n",
    "\n",
    "#SBATCH --partition=standard\n",
    "#SBATCH --job-name=no_demog\n",
    "#SBATCH --time=12:00:00\n",
    "#SBATCH --mail-type=ALL\n",
    "#SBATCH --mail-user=jesus.murga@uab.cat\n",
    "#SBACTH --array=1-50000\n",
    "\n",
    "DPATH=\"/xdisk/denard/mig2020/rsgrps/denard\"\n",
    "\n",
    "module load slim\n",
    "module load parallel\n",
    "\n",
    "# Each command takes about 12hours to run using this configuration\n",
    "\n",
    "##########BGS 0.2\n",
    "\n",
    "parallel -j200 -u \"slim -d N=500 -d sampleSize=500 -d wS=10 -d sS=500 -d muBgs=6.608754e-07 -d pposL=0.003877 -d pposH=0.000311 -d nF={} -d output=\\'${DPATH}/jmurga/simulations/no_demog/no_demog_0.4_0.1_0.2\\' ${DPATH}/jmurga/src/bgs.slim\" ::: `seq 1 50000`\n",
    "\n",
    "parallel -j200 -u \"slim -d N=500 -d sampleSize=500 -d wS=10 -d sS=500 -d muBgs=6.608754e-07 -d pposL=0.007739 -d pposH=0.000207 -d nF={} -d output=\\'${DPATH}/jmurga/simulations/no_demog/no_demog_0.4_0.2_0.2\\' ${DPATH}/jmurga/src/bgs.slim\" ::: `seq 1 50000`\n",
    "\n",
    "parallel -j200 -u \"slim -d N=500 -d sampleSize=500 -d wS=10 -d sS=500 -d muBgs=6.608754e-07 -d pposL=0.011586 -d pposH=0.000103 -d nF={} -d output=\\'${DPATH}/jmurga/simulations/no_demog/no_demog_0.4_0.3_0.2\\' ${DPATH}/jmurga/src/bgs.slim\" ::: `seq 1 50000`\n",
    "\n",
    "##########BGS 0.4\n",
    "parallel -j200 -u \"slim -d N=500 -d sampleSize=500 -d wS=10 -d sS=500 -d muBgs=3.762519e-07 -d pposL=0.003877 -d pposH=0.000311 -d nF={} -d output=\\'${DPATH}/jmurga/simulations/no_demog/no_demog_0.4_0.1_0.4\\' ${DPATH}/jmurga/src/bgs.slim\" ::: `seq 1 50000`\n",
    "\n",
    "parallel -j200 -u \"slim -d N=500 -d sampleSize=500 -d wS=10 -d sS=500 -d muBgs=3.762519e-07 -d pposL=0.007739 -d pposH=0.000207 -d nF={} -d output=\\'${DPATH}/jmurga/simulations/no_demog/no_demog_0.4_0.2_0.4\\' ${DPATH}/jmurga/src/bgs.slim\" ::: `seq 1 50000`\n",
    "\n",
    "parallel -j200 -u \"slim -d N=500 -d sampleSize=500 -d wS=10 -d sS=500 -d muBgs=3.762519e-07 -d pposL=0.011586 -d pposH=0.000103 -d nF={} -d output=\\'${DPATH}/jmurga/simulations/no_demog/no_demog_0.4_0.3_0.4\\' ${DPATH}/jmurga/src/bgs.slim\" ::: `seq 1 50000`\n",
    "\n",
    "##########BGS 0.8\n",
    "parallel -j200 -u \"slim -d N=500 -d sampleSize=500 -d wS=10 -d sS=500 -d muBgs=9.162832e-08 -d pposL=0.003877 -d pposH=0.000311 -d nF={} -d output=\\'${DPATH}/jmurga/simulations/no_demog/no_demog_0.4_0.1_0.8\\' ${DPATH}/jmurga/src/bgs.slim\" ::: `seq 1 50000`\n",
    "\n",
    "parallel -j200 -u \"slim -d N=500 -d sampleSize=500 -d wS=10 -d sS=500 -d muBgs=9.162832e-08 -d pposL=0.007739 -d pposH=0.000207 -d nF={} -d output=\\'${DPATH}/jmurga/simulations/no_demog/no_demog_0.4_0.2_0.8\\' ${DPATH}/jmurga/src/bgs.slim\" ::: `seq 1 50000`\n",
    "\n",
    "parallel -j200 -u \"slim -d N=500 -d sampleSize=500 -d wS=10 -d sS=500 -d muBgs=9.162832e-08 -d pposL=0.011586 -d pposH=0.000103 -d nF={} -d output=\\'${DPATH}/jmurga/simulations/no_demog/no_demog_0.4_0.3_0.8\\' ${DPATH}/jmurga/src/bgs.slim\" ::: `seq 1 50000`\n",
    "\n",
    "##########BGS 0.999\n",
    "parallel -j200 -u \"slim -d N=500 -d sampleSize=500 -d wS=10 -d sS=500 -d muBgs=4.108304e-10 -d pposL=0.003877 -d pposH=0.000311 -d nF={} -d output=\\'${DPATH}/jmurga/simulations/no_demog/no_demog_0.4_0.1_0.999\\' ${DPATH}/jmurga/src/bgs.slim\" ::: `seq 1 50000`\n",
    "\n",
    "parallel -j200 -u \"slim -d N=500 -d sampleSize=500 -d wS=10 -d sS=500 -d muBgs=4.108304e-10 -d pposL=0.007739 -d pposH=0.000207 -d nF={} -d output=\\'${DPATH}/jmurga/simulations/no_demog/no_demog_0.4_0.2_0.999\\' ${DPATH}/jmurga/src/bgs.slim\" ::: `seq 1 50000`\n",
    "\n",
    "parallel -j200 -u \"slim -d N=500 -d sampleSize=500 -d wS=10 -d sS=500 -d muBgs=4.108304e-10 -d pposL=0.011586 -d pposH=0.000103 -d nF={} -d output=\\'${DPATH}/jmurga/simulations/no_demog/no_demog_0.4_0.3_0.999\\' ${DPATH}/jmurga/src/bgs.slim\" ::: `seq 1 50000`\n",
    "\n",
    "```"
   ]
  },
  {
   "cell_type": "markdown",
   "metadata": {
    "hidden": true,
    "tags": []
   },
   "source": [
    "### Processing simulated data"
   ]
  },
  {
   "cell_type": "markdown",
   "metadata": {
    "hidden": true
   },
   "source": [
    "#### All simulations"
   ]
  },
  {
   "cell_type": "code",
   "execution_count": 5,
   "metadata": {},
   "outputs": [
    {
     "data": {
      "text/html": [
       "<div>\n",
       "<style scoped>\n",
       "    .dataframe tbody tr th:only-of-type {\n",
       "        vertical-align: middle;\n",
       "    }\n",
       "\n",
       "    .dataframe tbody tr th {\n",
       "        vertical-align: top;\n",
       "    }\n",
       "\n",
       "    .dataframe thead th {\n",
       "        text-align: right;\n",
       "    }\n",
       "</style>\n",
       "<table border=\"1\" class=\"dataframe\">\n",
       "  <thead>\n",
       "    <tr style=\"text-align: right;\">\n",
       "      <th></th>\n",
       "      <th>bgs_θ</th>\n",
       "      <th>ppos_l</th>\n",
       "      <th>ppos_h</th>\n",
       "      <th>alpha_weak</th>\n",
       "      <th>alpha</th>\n",
       "      <th>estimation</th>\n",
       "      <th>B</th>\n",
       "      <th>path</th>\n",
       "    </tr>\n",
       "  </thead>\n",
       "  <tbody>\n",
       "    <tr>\n",
       "      <th>0</th>\n",
       "      <td>6.608754e-07</td>\n",
       "      <td>0.003878</td>\n",
       "      <td>0.000312</td>\n",
       "      <td>0.1</td>\n",
       "      <td>0.4</td>\n",
       "      <td>0.25695</td>\n",
       "      <td>0.200</td>\n",
       "      <td>/home/jmurga/mkt/202004/raw_data/simulations/n...</td>\n",
       "    </tr>\n",
       "    <tr>\n",
       "      <th>1</th>\n",
       "      <td>6.608754e-07</td>\n",
       "      <td>0.007741</td>\n",
       "      <td>0.000207</td>\n",
       "      <td>0.2</td>\n",
       "      <td>0.4</td>\n",
       "      <td>0.23094</td>\n",
       "      <td>0.200</td>\n",
       "      <td>/home/jmurga/mkt/202004/raw_data/simulations/n...</td>\n",
       "    </tr>\n",
       "    <tr>\n",
       "      <th>2</th>\n",
       "      <td>6.608754e-07</td>\n",
       "      <td>0.011589</td>\n",
       "      <td>0.000103</td>\n",
       "      <td>0.3</td>\n",
       "      <td>0.4</td>\n",
       "      <td>0.20293</td>\n",
       "      <td>0.200</td>\n",
       "      <td>/home/jmurga/mkt/202004/raw_data/simulations/n...</td>\n",
       "    </tr>\n",
       "    <tr>\n",
       "      <th>3</th>\n",
       "      <td>3.762519e-07</td>\n",
       "      <td>0.003878</td>\n",
       "      <td>0.000312</td>\n",
       "      <td>0.1</td>\n",
       "      <td>0.4</td>\n",
       "      <td>0.31316</td>\n",
       "      <td>0.400</td>\n",
       "      <td>/home/jmurga/mkt/202004/raw_data/simulations/n...</td>\n",
       "    </tr>\n",
       "    <tr>\n",
       "      <th>4</th>\n",
       "      <td>3.762519e-07</td>\n",
       "      <td>0.007741</td>\n",
       "      <td>0.000207</td>\n",
       "      <td>0.2</td>\n",
       "      <td>0.4</td>\n",
       "      <td>0.29547</td>\n",
       "      <td>0.400</td>\n",
       "      <td>/home/jmurga/mkt/202004/raw_data/simulations/n...</td>\n",
       "    </tr>\n",
       "    <tr>\n",
       "      <th>5</th>\n",
       "      <td>3.762519e-07</td>\n",
       "      <td>0.011589</td>\n",
       "      <td>0.000103</td>\n",
       "      <td>0.3</td>\n",
       "      <td>0.4</td>\n",
       "      <td>0.27677</td>\n",
       "      <td>0.400</td>\n",
       "      <td>/home/jmurga/mkt/202004/raw_data/simulations/n...</td>\n",
       "    </tr>\n",
       "    <tr>\n",
       "      <th>6</th>\n",
       "      <td>9.162832e-08</td>\n",
       "      <td>0.003878</td>\n",
       "      <td>0.000312</td>\n",
       "      <td>0.1</td>\n",
       "      <td>0.4</td>\n",
       "      <td>0.37854</td>\n",
       "      <td>0.800</td>\n",
       "      <td>/home/jmurga/mkt/202004/raw_data/simulations/n...</td>\n",
       "    </tr>\n",
       "    <tr>\n",
       "      <th>7</th>\n",
       "      <td>9.162832e-08</td>\n",
       "      <td>0.007741</td>\n",
       "      <td>0.000207</td>\n",
       "      <td>0.2</td>\n",
       "      <td>0.4</td>\n",
       "      <td>0.37436</td>\n",
       "      <td>0.800</td>\n",
       "      <td>/home/jmurga/mkt/202004/raw_data/simulations/n...</td>\n",
       "    </tr>\n",
       "    <tr>\n",
       "      <th>8</th>\n",
       "      <td>9.162832e-08</td>\n",
       "      <td>0.011589</td>\n",
       "      <td>0.000103</td>\n",
       "      <td>0.3</td>\n",
       "      <td>0.4</td>\n",
       "      <td>0.37010</td>\n",
       "      <td>0.800</td>\n",
       "      <td>/home/jmurga/mkt/202004/raw_data/simulations/n...</td>\n",
       "    </tr>\n",
       "    <tr>\n",
       "      <th>9</th>\n",
       "      <td>4.108304e-10</td>\n",
       "      <td>0.003878</td>\n",
       "      <td>0.000312</td>\n",
       "      <td>0.1</td>\n",
       "      <td>0.4</td>\n",
       "      <td>0.40136</td>\n",
       "      <td>0.999</td>\n",
       "      <td>/home/jmurga/mkt/202004/raw_data/simulations/n...</td>\n",
       "    </tr>\n",
       "    <tr>\n",
       "      <th>10</th>\n",
       "      <td>4.108304e-10</td>\n",
       "      <td>0.007741</td>\n",
       "      <td>0.000207</td>\n",
       "      <td>0.2</td>\n",
       "      <td>0.4</td>\n",
       "      <td>0.40250</td>\n",
       "      <td>0.999</td>\n",
       "      <td>/home/jmurga/mkt/202004/raw_data/simulations/n...</td>\n",
       "    </tr>\n",
       "    <tr>\n",
       "      <th>11</th>\n",
       "      <td>4.108304e-10</td>\n",
       "      <td>0.011589</td>\n",
       "      <td>0.000103</td>\n",
       "      <td>0.3</td>\n",
       "      <td>0.4</td>\n",
       "      <td>0.40363</td>\n",
       "      <td>0.999</td>\n",
       "      <td>/home/jmurga/mkt/202004/raw_data/simulations/n...</td>\n",
       "    </tr>\n",
       "  </tbody>\n",
       "</table>\n",
       "</div>"
      ],
      "text/plain": [
       "           bgs_θ    ppos_l    ppos_h  alpha_weak  alpha  estimation      B  \\\n",
       "0   6.608754e-07  0.003878  0.000312         0.1    0.4     0.25695  0.200   \n",
       "1   6.608754e-07  0.007741  0.000207         0.2    0.4     0.23094  0.200   \n",
       "2   6.608754e-07  0.011589  0.000103         0.3    0.4     0.20293  0.200   \n",
       "3   3.762519e-07  0.003878  0.000312         0.1    0.4     0.31316  0.400   \n",
       "4   3.762519e-07  0.007741  0.000207         0.2    0.4     0.29547  0.400   \n",
       "5   3.762519e-07  0.011589  0.000103         0.3    0.4     0.27677  0.400   \n",
       "6   9.162832e-08  0.003878  0.000312         0.1    0.4     0.37854  0.800   \n",
       "7   9.162832e-08  0.007741  0.000207         0.2    0.4     0.37436  0.800   \n",
       "8   9.162832e-08  0.011589  0.000103         0.3    0.4     0.37010  0.800   \n",
       "9   4.108304e-10  0.003878  0.000312         0.1    0.4     0.40136  0.999   \n",
       "10  4.108304e-10  0.007741  0.000207         0.2    0.4     0.40250  0.999   \n",
       "11  4.108304e-10  0.011589  0.000103         0.3    0.4     0.40363  0.999   \n",
       "\n",
       "                                                 path  \n",
       "0   /home/jmurga/mkt/202004/raw_data/simulations/n...  \n",
       "1   /home/jmurga/mkt/202004/raw_data/simulations/n...  \n",
       "2   /home/jmurga/mkt/202004/raw_data/simulations/n...  \n",
       "3   /home/jmurga/mkt/202004/raw_data/simulations/n...  \n",
       "4   /home/jmurga/mkt/202004/raw_data/simulations/n...  \n",
       "5   /home/jmurga/mkt/202004/raw_data/simulations/n...  \n",
       "6   /home/jmurga/mkt/202004/raw_data/simulations/n...  \n",
       "7   /home/jmurga/mkt/202004/raw_data/simulations/n...  \n",
       "8   /home/jmurga/mkt/202004/raw_data/simulations/n...  \n",
       "9   /home/jmurga/mkt/202004/raw_data/simulations/n...  \n",
       "10  /home/jmurga/mkt/202004/raw_data/simulations/n...  \n",
       "11  /home/jmurga/mkt/202004/raw_data/simulations/n...  "
      ]
     },
     "execution_count": 5,
     "metadata": {},
     "output_type": "execute_result"
    }
   ],
   "source": [
    "sim_table"
   ]
  },
  {
   "cell_type": "code",
   "execution_count": 6,
   "metadata": {
    "code_folding": [],
    "hidden": true,
    "scrolled": true,
    "tags": []
   },
   "outputs": [
    {
     "name": "stdout",
     "output_type": "stream",
     "text": [
      "/home/jmurga/mkt/202004/raw_data/simulations/no_demog/no_demog_0.4_0.1_0.2\n"
     ]
    },
    {
     "name": "stderr",
     "output_type": "stream",
     "text": [
      "100%|████████████████████████████| 100/100 [01:36<00:00,  1.04it/s]\n"
     ]
    },
    {
     "name": "stdout",
     "output_type": "stream",
     "text": [
      "/home/jmurga/mkt/202004/raw_data/simulations/no_demog/no_demog_0.4_0.2_0.2\n"
     ]
    },
    {
     "name": "stderr",
     "output_type": "stream",
     "text": [
      "100%|████████████████████████████| 100/100 [01:35<00:00,  1.05it/s]\n"
     ]
    },
    {
     "name": "stdout",
     "output_type": "stream",
     "text": [
      "/home/jmurga/mkt/202004/raw_data/simulations/no_demog/no_demog_0.4_0.3_0.2\n"
     ]
    },
    {
     "name": "stderr",
     "output_type": "stream",
     "text": [
      "100%|████████████████████████████| 100/100 [01:35<00:00,  1.05it/s]\n"
     ]
    },
    {
     "name": "stdout",
     "output_type": "stream",
     "text": [
      "/home/jmurga/mkt/202004/raw_data/simulations/no_demog/no_demog_0.4_0.1_0.4\n"
     ]
    },
    {
     "name": "stderr",
     "output_type": "stream",
     "text": [
      "100%|████████████████████████████| 100/100 [01:34<00:00,  1.06it/s]\n"
     ]
    },
    {
     "name": "stdout",
     "output_type": "stream",
     "text": [
      "/home/jmurga/mkt/202004/raw_data/simulations/no_demog/no_demog_0.4_0.2_0.4\n"
     ]
    },
    {
     "name": "stderr",
     "output_type": "stream",
     "text": [
      "100%|████████████████████████████| 100/100 [01:36<00:00,  1.03it/s]\n"
     ]
    },
    {
     "name": "stdout",
     "output_type": "stream",
     "text": [
      "/home/jmurga/mkt/202004/raw_data/simulations/no_demog/no_demog_0.4_0.3_0.4\n"
     ]
    },
    {
     "name": "stderr",
     "output_type": "stream",
     "text": [
      "100%|████████████████████████████| 100/100 [01:37<00:00,  1.02it/s]\n"
     ]
    },
    {
     "name": "stdout",
     "output_type": "stream",
     "text": [
      "/home/jmurga/mkt/202004/raw_data/simulations/no_demog/no_demog_0.4_0.1_0.8\n"
     ]
    },
    {
     "name": "stderr",
     "output_type": "stream",
     "text": [
      "100%|████████████████████████████| 100/100 [01:38<00:00,  1.01it/s]\n"
     ]
    },
    {
     "name": "stdout",
     "output_type": "stream",
     "text": [
      "/home/jmurga/mkt/202004/raw_data/simulations/no_demog/no_demog_0.4_0.2_0.8\n"
     ]
    },
    {
     "name": "stderr",
     "output_type": "stream",
     "text": [
      "100%|████████████████████████████| 100/100 [01:36<00:00,  1.03it/s]\n"
     ]
    },
    {
     "name": "stdout",
     "output_type": "stream",
     "text": [
      "/home/jmurga/mkt/202004/raw_data/simulations/no_demog/no_demog_0.4_0.3_0.8\n"
     ]
    },
    {
     "name": "stderr",
     "output_type": "stream",
     "text": [
      "100%|████████████████████████████| 100/100 [01:31<00:00,  1.09it/s]\n"
     ]
    },
    {
     "name": "stdout",
     "output_type": "stream",
     "text": [
      "/home/jmurga/mkt/202004/raw_data/simulations/no_demog/no_demog_0.4_0.1_0.999\n"
     ]
    },
    {
     "name": "stderr",
     "output_type": "stream",
     "text": [
      "100%|████████████████████████████| 100/100 [01:36<00:00,  1.04it/s]\n"
     ]
    },
    {
     "name": "stdout",
     "output_type": "stream",
     "text": [
      "/home/jmurga/mkt/202004/raw_data/simulations/no_demog/no_demog_0.4_0.2_0.999\n"
     ]
    },
    {
     "name": "stderr",
     "output_type": "stream",
     "text": [
      "100%|████████████████████████████| 100/100 [01:34<00:00,  1.05it/s]\n"
     ]
    },
    {
     "name": "stdout",
     "output_type": "stream",
     "text": [
      "/home/jmurga/mkt/202004/raw_data/simulations/no_demog/no_demog_0.4_0.3_0.999\n"
     ]
    },
    {
     "name": "stderr",
     "output_type": "stream",
     "text": [
      "100%|████████████████████████████| 100/100 [01:36<00:00,  1.04it/s]\n"
     ]
    }
   ],
   "source": [
    "for index,row in sim_table.iterrows():\n",
    "    print(row.path)\n",
    "    parse_and_bootstrap(row.path,500,nthreads=20,replicas=100)"
   ]
  },
  {
   "cell_type": "code",
   "execution_count": 3,
   "metadata": {
    "hidden": true
   },
   "outputs": [
    {
     "data": {
      "text/html": [
       "<div>\n",
       "<style scoped>\n",
       "    .dataframe tbody tr th:only-of-type {\n",
       "        vertical-align: middle;\n",
       "    }\n",
       "\n",
       "    .dataframe tbody tr th {\n",
       "        vertical-align: top;\n",
       "    }\n",
       "\n",
       "    .dataframe thead th {\n",
       "        text-align: right;\n",
       "    }\n",
       "</style>\n",
       "<table border=\"1\" class=\"dataframe\">\n",
       "  <thead>\n",
       "    <tr style=\"text-align: right;\">\n",
       "      <th></th>\n",
       "      <th>f</th>\n",
       "      <th>alphas</th>\n",
       "      <th>B</th>\n",
       "      <th>alpha_weak</th>\n",
       "      <th>sfs</th>\n",
       "      <th>path</th>\n",
       "    </tr>\n",
       "  </thead>\n",
       "  <tbody>\n",
       "    <tr>\n",
       "      <th>0</th>\n",
       "      <td>0.001001</td>\n",
       "      <td>-0.647849</td>\n",
       "      <td>0.200</td>\n",
       "      <td>0.1</td>\n",
       "      <td>Neutral + deleterious</td>\n",
       "      <td>no_demog_0.4_0.1_0.2</td>\n",
       "    </tr>\n",
       "    <tr>\n",
       "      <th>1</th>\n",
       "      <td>0.002002</td>\n",
       "      <td>-0.407424</td>\n",
       "      <td>0.200</td>\n",
       "      <td>0.1</td>\n",
       "      <td>Neutral + deleterious</td>\n",
       "      <td>no_demog_0.4_0.1_0.2</td>\n",
       "    </tr>\n",
       "    <tr>\n",
       "      <th>2</th>\n",
       "      <td>0.003003</td>\n",
       "      <td>-0.332796</td>\n",
       "      <td>0.200</td>\n",
       "      <td>0.1</td>\n",
       "      <td>Neutral + deleterious</td>\n",
       "      <td>no_demog_0.4_0.1_0.2</td>\n",
       "    </tr>\n",
       "    <tr>\n",
       "      <th>3</th>\n",
       "      <td>0.004004</td>\n",
       "      <td>-0.281825</td>\n",
       "      <td>0.200</td>\n",
       "      <td>0.1</td>\n",
       "      <td>Neutral + deleterious</td>\n",
       "      <td>no_demog_0.4_0.1_0.2</td>\n",
       "    </tr>\n",
       "    <tr>\n",
       "      <th>4</th>\n",
       "      <td>0.005005</td>\n",
       "      <td>-0.245331</td>\n",
       "      <td>0.200</td>\n",
       "      <td>0.1</td>\n",
       "      <td>Neutral + deleterious</td>\n",
       "      <td>no_demog_0.4_0.1_0.2</td>\n",
       "    </tr>\n",
       "    <tr>\n",
       "      <th>...</th>\n",
       "      <td>...</td>\n",
       "      <td>...</td>\n",
       "      <td>...</td>\n",
       "      <td>...</td>\n",
       "      <td>...</td>\n",
       "      <td>...</td>\n",
       "    </tr>\n",
       "    <tr>\n",
       "      <th>994</th>\n",
       "      <td>0.995996</td>\n",
       "      <td>0.066204</td>\n",
       "      <td>0.999</td>\n",
       "      <td>0.3</td>\n",
       "      <td>All alleles</td>\n",
       "      <td>no_demog_0.4_0.3_0.999</td>\n",
       "    </tr>\n",
       "    <tr>\n",
       "      <th>995</th>\n",
       "      <td>0.996997</td>\n",
       "      <td>0.084752</td>\n",
       "      <td>0.999</td>\n",
       "      <td>0.3</td>\n",
       "      <td>All alleles</td>\n",
       "      <td>no_demog_0.4_0.3_0.999</td>\n",
       "    </tr>\n",
       "    <tr>\n",
       "      <th>996</th>\n",
       "      <td>0.997998</td>\n",
       "      <td>0.106332</td>\n",
       "      <td>0.999</td>\n",
       "      <td>0.3</td>\n",
       "      <td>All alleles</td>\n",
       "      <td>no_demog_0.4_0.3_0.999</td>\n",
       "    </tr>\n",
       "    <tr>\n",
       "      <th>997</th>\n",
       "      <td>0.998999</td>\n",
       "      <td>0.035028</td>\n",
       "      <td>0.999</td>\n",
       "      <td>0.3</td>\n",
       "      <td>All alleles</td>\n",
       "      <td>no_demog_0.4_0.3_0.999</td>\n",
       "    </tr>\n",
       "    <tr>\n",
       "      <th>998</th>\n",
       "      <td>1.000000</td>\n",
       "      <td>0.116046</td>\n",
       "      <td>0.999</td>\n",
       "      <td>0.3</td>\n",
       "      <td>All alleles</td>\n",
       "      <td>no_demog_0.4_0.3_0.999</td>\n",
       "    </tr>\n",
       "  </tbody>\n",
       "</table>\n",
       "<p>23976 rows × 6 columns</p>\n",
       "</div>"
      ],
      "text/plain": [
       "            f    alphas      B  alpha_weak                    sfs  \\\n",
       "0    0.001001 -0.647849  0.200         0.1  Neutral + deleterious   \n",
       "1    0.002002 -0.407424  0.200         0.1  Neutral + deleterious   \n",
       "2    0.003003 -0.332796  0.200         0.1  Neutral + deleterious   \n",
       "3    0.004004 -0.281825  0.200         0.1  Neutral + deleterious   \n",
       "4    0.005005 -0.245331  0.200         0.1  Neutral + deleterious   \n",
       "..        ...       ...    ...         ...                    ...   \n",
       "994  0.995996  0.066204  0.999         0.3            All alleles   \n",
       "995  0.996997  0.084752  0.999         0.3            All alleles   \n",
       "996  0.997998  0.106332  0.999         0.3            All alleles   \n",
       "997  0.998999  0.035028  0.999         0.3            All alleles   \n",
       "998  1.000000  0.116046  0.999         0.3            All alleles   \n",
       "\n",
       "                       path  \n",
       "0      no_demog_0.4_0.1_0.2  \n",
       "1      no_demog_0.4_0.1_0.2  \n",
       "2      no_demog_0.4_0.1_0.2  \n",
       "3      no_demog_0.4_0.1_0.2  \n",
       "4      no_demog_0.4_0.1_0.2  \n",
       "..                      ...  \n",
       "994  no_demog_0.4_0.3_0.999  \n",
       "995  no_demog_0.4_0.3_0.999  \n",
       "996  no_demog_0.4_0.3_0.999  \n",
       "997  no_demog_0.4_0.3_0.999  \n",
       "998  no_demog_0.4_0.3_0.999  \n",
       "\n",
       "[23976 rows x 6 columns]"
      ]
     },
     "execution_count": 3,
     "metadata": {},
     "output_type": "execute_result"
    }
   ],
   "source": [
    "df,df_alpha = save_simulated_alphas(sim_table);\n",
    "df_alpha"
   ]
  },
  {
   "cell_type": "code",
   "execution_count": 6,
   "metadata": {
    "hidden": true
   },
   "outputs": [],
   "source": [
    "df = df.round(3)\n",
    "df_alpha = df_alpha.round(3)"
   ]
  },
  {
   "cell_type": "code",
   "execution_count": 42,
   "metadata": {
    "hidden": true
   },
   "outputs": [],
   "source": [
    "df.to_csv(PATH + '/results/simulations/slim/no_demog/simulated_alphas.tsv',index=False,sep='\\t',header=True)"
   ]
  },
  {
   "cell_type": "code",
   "execution_count": 43,
   "metadata": {
    "hidden": true
   },
   "outputs": [],
   "source": [
    "df_alpha.to_csv(PATH + '/results/simulations/slim/no_demog/simulated_to_plot_all.tsv',index=False,sep='\\t',header=True)"
   ]
  },
  {
   "cell_type": "code",
   "execution_count": 7,
   "metadata": {
    "hidden": true
   },
   "outputs": [],
   "source": [
    "df_alpha['path'] = pd.Categorical(df_alpha['path'], [\"no_demog_0.4_0.1_0.2\",\"no_demog_0.4_0.2_0.2\",\"no_demog_0.4_0.3_0.2\",\"no_demog_0.4_0.1_0.4\",\"no_demog_0.4_0.2_0.4\",\"no_demog_0.4_0.3_0.4\",\"no_demog_0.4_0.1_0.8\",\"no_demog_0.4_0.2_0.8\",\"no_demog_0.4_0.3_0.8\",\"no_demog_0.4_0.1_0.999\",\"no_demog_0.4_0.2_0.999\",\"no_demog_0.4_0.3_0.999\"])"
   ]
  },
  {
   "cell_type": "code",
   "execution_count": 46,
   "metadata": {},
   "outputs": [],
   "source": [
    "df_alpha = pd.read_csv(PATH + '/results/simulations/slim/no_demog/simulated_to_plot_all.tsv',sep='\\t')"
   ]
  },
  {
   "cell_type": "code",
   "execution_count": 7,
   "metadata": {},
   "outputs": [
    {
     "name": "stderr",
     "output_type": "stream",
     "text": [
      "/home/jmurga/.mamba/lib/python3.9/site-packages/rpy2/robjects/pandas2ri.py:56: UserWarning: DataFrame contains duplicated elements in the index, which will lead to loss of the row names in the resulting data.frame\n",
      "  warnings.warn('DataFrame contains duplicated elements in the index, '\n",
      "R[write to console]: Saving 6.67 x 6.67 in image\n",
      "\n",
      "R[write to console]: Saving 6.67 x 6.67 in image\n",
      "\n",
      "R[write to console]: Saving 6.67 x 6.67 in image\n",
      "\n"
     ]
    },
    {
     "data": {
      "image/png": "[encoded data removed]"
     },
     "metadata": {},
     "output_type": "display_data"
    }
   ],
   "source": [
    "%%R -i PATH -i df_alpha \n",
    "p = plot_simulated_alphas(df = df_alpha,output = paste0(PATH,\"/results/simulations/slim/no_demog/simulated_alphas_dup.svg\"))\n",
    "p = plot_simulated_alphas(df = df_alpha,output = paste0(PATH,\"/results/simulations/slim/no_demog/simulated_alphas_dup.pdf\"))\n",
    "p = plot_simulated_alphas(df = df_alpha,output = paste0(PATH,\"/results/simulations/slim/no_demog/simulated_alphas_dup.png\"))\n",
    "\n",
    "p"
   ]
  },
  {
   "cell_type": "markdown",
   "metadata": {
    "tags": []
   },
   "source": [
    "# Tennesen model"
   ]
  },
  {
   "cell_type": "markdown",
   "metadata": {
    "tags": []
   },
   "source": [
    "## Solving fixantion probabilites to simulate with MKtest.jl"
   ]
  },
  {
   "cell_type": "code",
   "execution_count": 4,
   "metadata": {},
   "outputs": [
    {
     "name": "stdout",
     "output_type": "stream",
     "text": [
      "/home/jmurga/julia-1.7.0/bin/julia\n"
     ]
    }
   ],
   "source": [
    "!which julia"
   ]
  },
  {
   "cell_type": "code",
   "execution_count": 2,
   "metadata": {},
   "outputs": [],
   "source": [
    "!julia /home/jmurga/mkt/202004/scripts/src/sim_table.jl 7310 661 200000 tennesen"
   ]
  },
  {
   "cell_type": "code",
   "execution_count": 8,
   "metadata": {},
   "outputs": [
    {
     "data": {
      "text/html": [
       "<div>\n",
       "<style scoped>\n",
       "    .dataframe tbody tr th:only-of-type {\n",
       "        vertical-align: middle;\n",
       "    }\n",
       "\n",
       "    .dataframe tbody tr th {\n",
       "        vertical-align: top;\n",
       "    }\n",
       "\n",
       "    .dataframe thead th {\n",
       "        text-align: right;\n",
       "    }\n",
       "</style>\n",
       "<table border=\"1\" class=\"dataframe\">\n",
       "  <thead>\n",
       "    <tr style=\"text-align: right;\">\n",
       "      <th></th>\n",
       "      <th>bgs_θ</th>\n",
       "      <th>ppos_l</th>\n",
       "      <th>ppos_h</th>\n",
       "      <th>alpha_weak</th>\n",
       "      <th>alpha</th>\n",
       "      <th>estimation</th>\n",
       "      <th>B</th>\n",
       "      <th>path</th>\n",
       "    </tr>\n",
       "  </thead>\n",
       "  <tbody>\n",
       "    <tr>\n",
       "      <th>0</th>\n",
       "      <td>9.040704e-08</td>\n",
       "      <td>0.003860</td>\n",
       "      <td>0.000239</td>\n",
       "      <td>0.1</td>\n",
       "      <td>0.4</td>\n",
       "      <td>0.25688</td>\n",
       "      <td>0.200</td>\n",
       "      <td>/home/jmurga/mkt/202004/raw_data/simulations/i...</td>\n",
       "    </tr>\n",
       "    <tr>\n",
       "      <th>1</th>\n",
       "      <td>9.040704e-08</td>\n",
       "      <td>0.007705</td>\n",
       "      <td>0.000159</td>\n",
       "      <td>0.2</td>\n",
       "      <td>0.4</td>\n",
       "      <td>0.23086</td>\n",
       "      <td>0.200</td>\n",
       "      <td>/home/jmurga/mkt/202004/raw_data/simulations/i...</td>\n",
       "    </tr>\n",
       "    <tr>\n",
       "      <th>2</th>\n",
       "      <td>9.040704e-08</td>\n",
       "      <td>0.011536</td>\n",
       "      <td>0.000079</td>\n",
       "      <td>0.3</td>\n",
       "      <td>0.4</td>\n",
       "      <td>0.20285</td>\n",
       "      <td>0.200</td>\n",
       "      <td>/home/jmurga/mkt/202004/raw_data/simulations/i...</td>\n",
       "    </tr>\n",
       "    <tr>\n",
       "      <th>3</th>\n",
       "      <td>5.147085e-08</td>\n",
       "      <td>0.003860</td>\n",
       "      <td>0.000239</td>\n",
       "      <td>0.1</td>\n",
       "      <td>0.4</td>\n",
       "      <td>0.31311</td>\n",
       "      <td>0.400</td>\n",
       "      <td>/home/jmurga/mkt/202004/raw_data/simulations/i...</td>\n",
       "    </tr>\n",
       "    <tr>\n",
       "      <th>4</th>\n",
       "      <td>5.147085e-08</td>\n",
       "      <td>0.007705</td>\n",
       "      <td>0.000159</td>\n",
       "      <td>0.2</td>\n",
       "      <td>0.4</td>\n",
       "      <td>0.29542</td>\n",
       "      <td>0.400</td>\n",
       "      <td>/home/jmurga/mkt/202004/raw_data/simulations/i...</td>\n",
       "    </tr>\n",
       "    <tr>\n",
       "      <th>5</th>\n",
       "      <td>5.147085e-08</td>\n",
       "      <td>0.011536</td>\n",
       "      <td>0.000079</td>\n",
       "      <td>0.3</td>\n",
       "      <td>0.4</td>\n",
       "      <td>0.27673</td>\n",
       "      <td>0.400</td>\n",
       "      <td>/home/jmurga/mkt/202004/raw_data/simulations/i...</td>\n",
       "    </tr>\n",
       "    <tr>\n",
       "      <th>6</th>\n",
       "      <td>1.253465e-08</td>\n",
       "      <td>0.003860</td>\n",
       "      <td>0.000239</td>\n",
       "      <td>0.1</td>\n",
       "      <td>0.4</td>\n",
       "      <td>0.37851</td>\n",
       "      <td>0.800</td>\n",
       "      <td>/home/jmurga/mkt/202004/raw_data/simulations/i...</td>\n",
       "    </tr>\n",
       "    <tr>\n",
       "      <th>7</th>\n",
       "      <td>1.253465e-08</td>\n",
       "      <td>0.007705</td>\n",
       "      <td>0.000159</td>\n",
       "      <td>0.2</td>\n",
       "      <td>0.4</td>\n",
       "      <td>0.37433</td>\n",
       "      <td>0.800</td>\n",
       "      <td>/home/jmurga/mkt/202004/raw_data/simulations/i...</td>\n",
       "    </tr>\n",
       "    <tr>\n",
       "      <th>8</th>\n",
       "      <td>1.253465e-08</td>\n",
       "      <td>0.011536</td>\n",
       "      <td>0.000079</td>\n",
       "      <td>0.3</td>\n",
       "      <td>0.4</td>\n",
       "      <td>0.37008</td>\n",
       "      <td>0.800</td>\n",
       "      <td>/home/jmurga/mkt/202004/raw_data/simulations/i...</td>\n",
       "    </tr>\n",
       "    <tr>\n",
       "      <th>9</th>\n",
       "      <td>5.620116e-11</td>\n",
       "      <td>0.003860</td>\n",
       "      <td>0.000239</td>\n",
       "      <td>0.1</td>\n",
       "      <td>0.4</td>\n",
       "      <td>0.40134</td>\n",
       "      <td>0.999</td>\n",
       "      <td>/home/jmurga/mkt/202004/raw_data/simulations/i...</td>\n",
       "    </tr>\n",
       "    <tr>\n",
       "      <th>10</th>\n",
       "      <td>5.620116e-11</td>\n",
       "      <td>0.007705</td>\n",
       "      <td>0.000159</td>\n",
       "      <td>0.2</td>\n",
       "      <td>0.4</td>\n",
       "      <td>0.40248</td>\n",
       "      <td>0.999</td>\n",
       "      <td>/home/jmurga/mkt/202004/raw_data/simulations/i...</td>\n",
       "    </tr>\n",
       "    <tr>\n",
       "      <th>11</th>\n",
       "      <td>5.620116e-11</td>\n",
       "      <td>0.011536</td>\n",
       "      <td>0.000079</td>\n",
       "      <td>0.3</td>\n",
       "      <td>0.4</td>\n",
       "      <td>0.40362</td>\n",
       "      <td>0.999</td>\n",
       "      <td>/home/jmurga/mkt/202004/raw_data/simulations/i...</td>\n",
       "    </tr>\n",
       "  </tbody>\n",
       "</table>\n",
       "</div>"
      ],
      "text/plain": [
       "           bgs_θ    ppos_l    ppos_h  alpha_weak  alpha  estimation      B  \\\n",
       "0   9.040704e-08  0.003860  0.000239         0.1    0.4     0.25688  0.200   \n",
       "1   9.040704e-08  0.007705  0.000159         0.2    0.4     0.23086  0.200   \n",
       "2   9.040704e-08  0.011536  0.000079         0.3    0.4     0.20285  0.200   \n",
       "3   5.147085e-08  0.003860  0.000239         0.1    0.4     0.31311  0.400   \n",
       "4   5.147085e-08  0.007705  0.000159         0.2    0.4     0.29542  0.400   \n",
       "5   5.147085e-08  0.011536  0.000079         0.3    0.4     0.27673  0.400   \n",
       "6   1.253465e-08  0.003860  0.000239         0.1    0.4     0.37851  0.800   \n",
       "7   1.253465e-08  0.007705  0.000159         0.2    0.4     0.37433  0.800   \n",
       "8   1.253465e-08  0.011536  0.000079         0.3    0.4     0.37008  0.800   \n",
       "9   5.620116e-11  0.003860  0.000239         0.1    0.4     0.40134  0.999   \n",
       "10  5.620116e-11  0.007705  0.000159         0.2    0.4     0.40248  0.999   \n",
       "11  5.620116e-11  0.011536  0.000079         0.3    0.4     0.40362  0.999   \n",
       "\n",
       "                                                 path  \n",
       "0   /home/jmurga/mkt/202004/raw_data/simulations/i...  \n",
       "1   /home/jmurga/mkt/202004/raw_data/simulations/i...  \n",
       "2   /home/jmurga/mkt/202004/raw_data/simulations/i...  \n",
       "3   /home/jmurga/mkt/202004/raw_data/simulations/i...  \n",
       "4   /home/jmurga/mkt/202004/raw_data/simulations/i...  \n",
       "5   /home/jmurga/mkt/202004/raw_data/simulations/i...  \n",
       "6   /home/jmurga/mkt/202004/raw_data/simulations/i...  \n",
       "7   /home/jmurga/mkt/202004/raw_data/simulations/i...  \n",
       "8   /home/jmurga/mkt/202004/raw_data/simulations/i...  \n",
       "9   /home/jmurga/mkt/202004/raw_data/simulations/i...  \n",
       "10  /home/jmurga/mkt/202004/raw_data/simulations/i...  \n",
       "11  /home/jmurga/mkt/202004/raw_data/simulations/i...  "
      ]
     },
     "execution_count": 8,
     "metadata": {},
     "output_type": "execute_result"
    }
   ],
   "source": [
    "sim_table = pd.read_csv(PATH + \"/raw_data/simulations/tennesen.tsv\", sep='\\t')\n",
    "sim_table['path'] = sim_table.apply(lambda row: \"/home/jmurga/mkt/202004/raw_data/simulations/isolation/isolation_\" + str(row['alpha']) + \"_\" + str(row['alpha_weak']) + \"_\" + str(np.round(row['B'],4)),axis=1)\n",
    "sim_table"
   ]
  },
  {
   "cell_type": "markdown",
   "metadata": {
    "heading_collapsed": true,
    "jp-MarkdownHeadingCollapsed": true,
    "tags": []
   },
   "source": [
    "### Running SLiM"
   ]
  },
  {
   "cell_type": "markdown",
   "metadata": {},
   "source": [
    "We run SLiM into and HPC enviroment due to the amount of replicas. Please copy outputs to the proper path after run the simulations. Here is the SLURM script:"
   ]
  },
  {
   "cell_type": "markdown",
   "metadata": {
    "hidden": true
   },
   "source": [
    "```bash\n",
    "#!/bin/bash\n",
    "\n",
    "#SBATCH --partition=standard\n",
    "#SBATCH --job-name=isolation\n",
    "#SBATCH --time=12:00:00\n",
    "#SBATCH --mail-type=ALL\n",
    "#SBATCH --mail-user=jesus.murga@uab.cat\n",
    "#SBACTH --array=1-50000\n",
    "\n",
    "DPATH=\"/xdisk/denard/mig2020/rsgrps/denard\"\n",
    "\n",
    "module load slim\n",
    "module load parallel\n",
    "\n",
    "# Each command takes about 12hours to run using this configuration\n",
    "\n",
    "##########BGS 0.2\n",
    "\n",
    "parallel -j200 -u \"slim -d N=7310 -d sampleSize=661 -d wS=10 -d sS=500 -d muBgs=9.040704e-08 -d pposL=0.003860 -d pposH=0.000239 -d nF={} -d output=\\'${DPATH}/jmurga/simulations/no_demog/no_demog_0.4_0.1_0.2\\' ${DPATH}/jmurga/src/bgs.slim\" ::: `seq 1 50000`\n",
    "\n",
    "parallel -j200 -u \"slim -d N=7310 -d sampleSize=661 -d wS=10 -d sS=500 -d muBgs=9.040704e-08 -d pposL=0.007705 -d pposH=0.000159 -d nF={} -d output=\\'${DPATH}/jmurga/simulations/no_demog/no_demog_0.4_0.2_0.2\\' ${DPATH}/jmurga/src/bgs.slim\" ::: `seq 1 50000`\n",
    "\n",
    "parallel -j200 -u \"slim -d N=7310 -d sampleSize=661 -d wS=10 -d sS=500 -d muBgs=9.040704e-08 -d pposL=0.011536 -d pposH=0.000079 -d nF={} -d output=\\'${DPATH}/jmurga/simulations/no_demog/no_demog_0.4_0.3_0.2\\' ${DPATH}/jmurga/src/bgs.slim\" ::: `seq 1 50000`\n",
    "\n",
    "##########BGS 0.4\n",
    "parallel -j200 -u \"slim -d N=7310 -d sampleSize=661 -d wS=10 -d sS=500 -d muBgs=5.147085e-08 -d pposL=0.003860 -d pposH=0.000239 -d nF={} -d output=\\'${DPATH}/jmurga/simulations/no_demog/no_demog_0.4_0.1_0.4\\' ${DPATH}/jmurga/src/bgs.slim\" ::: `seq 1 50000`\n",
    "\n",
    "parallel -j200 -u \"slim -d N=7310 -d sampleSize=661 -d wS=10 -d sS=500 -d muBgs=5.147085e-08 -d pposL=0.007705 -d pposH=0.000159 -d nF={} -d output=\\'${DPATH}/jmurga/simulations/no_demog/no_demog_0.4_0.2_0.4\\' ${DPATH}/jmurga/src/bgs.slim\" ::: `seq 1 50000`\n",
    "\n",
    "parallel -j200 -u \"slim -d N=7310 -d sampleSize=661 -d wS=10 -d sS=500 -d muBgs=5.147085e-08 -d pposL=0.011536 -d pposH=0.000079 -d nF={} -d output=\\'${DPATH}/jmurga/simulations/no_demog/no_demog_0.4_0.3_0.4\\' ${DPATH}/jmurga/src/bgs.slim\" ::: `seq 1 50000`\n",
    "\n",
    "##########BGS 0.8\n",
    "parallel -j200 -u \"slim -d N=7310 -d sampleSize=661 -d wS=10 -d sS=500 -d muBgs=1.253465e-08 -d pposL=0.003860 -d pposH=0.000239 -d nF={} -d output=\\'${DPATH}/jmurga/simulations/no_demog/no_demog_0.4_0.1_0.8\\' ${DPATH}/jmurga/src/bgs.slim\" ::: `seq 1 50000`\n",
    "\n",
    "parallel -j200 -u \"slim -d N=7310 -d sampleSize=661 -d wS=10 -d sS=500 -d muBgs=1.253465e-08 -d pposL=0.007705 -d pposH=0.000159 -d nF={} -d output=\\'${DPATH}/jmurga/simulations/no_demog/no_demog_0.4_0.2_0.8\\' ${DPATH}/jmurga/src/bgs.slim\" ::: `seq 1 50000`\n",
    "\n",
    "parallel -j200 -u \"slim -d N=7310 -d sampleSize=661 -d wS=10 -d sS=500 -d muBgs=1.253465e-08 -d pposL=0.011536 -d pposH=0.000079 -d nF={} -d output=\\'${DPATH}/jmurga/simulations/no_demog/no_demog_0.4_0.3_0.8\\' ${DPATH}/jmurga/src/bgs.slim\" ::: `seq 1 50000`\n",
    "\n",
    "##########BGS 0.999\n",
    "parallel -j200 -u \"slim -d N=7310 -d sampleSize=661 -d wS=10 -d sS=500 -d muBgs=5.620116e-11 -d pposL=0.003860 -d pposH=0.000239 -d nF={} -d output=\\'${DPATH}/jmurga/simulations/no_demog/no_demog_0.4_0.1_0.999\\' ${DPATH}/jmurga/src/bgs.slim\" ::: `seq 1 50000`\n",
    "\n",
    "parallel -j200 -u \"slim -d N=7310 -d sampleSize=661 -d wS=10 -d sS=500 -d muBgs=5.620116e-11 -d pposL=0.007705 -d pposH=0.000159 -d nF={} -d output=\\'${DPATH}/jmurga/simulations/no_demog/no_demog_0.4_0.2_0.999\\' ${DPATH}/jmurga/src/bgs.slim\" ::: `seq 1 50000`\n",
    "\n",
    "parallel -j200 -u \"slim -d N=7310 -d sampleSize=661 -d wS=10 -d sS=500 -d muBgs=5.620116e-11 -d pposL=0.011536 -d pposH=0.000079 -d nF={} -d output=\\'${DPATH}/jmurga/simulations/no_demog/no_demog_0.4_0.3_0.999\\' ${DPATH}/jmurga/src/bgs.slim\" ::: `seq 1 50000`\n",
    "\n",
    "```"
   ]
  },
  {
   "cell_type": "markdown",
   "metadata": {
    "tags": []
   },
   "source": [
    "### Processing simulated data"
   ]
  },
  {
   "cell_type": "code",
   "execution_count": null,
   "metadata": {
    "scrolled": true
   },
   "outputs": [
    {
     "name": "stdout",
     "output_type": "stream",
     "text": [
      "/home/jmurga/mkt/202004/raw_data/simulations/isolation/isolation_0.4_0.1_0.2\n"
     ]
    },
    {
     "name": "stderr",
     "output_type": "stream",
     "text": [
      " 58%|████████████████▊            | 58/100 [01:06<00:48,  1.16s/it]"
     ]
    }
   ],
   "source": [
    "for index,row in sim_table.iterrows():\n",
    "    print(row.path)\n",
    "    parse_and_bootstrap(row.path,661,nthreads=20,replicas=100)"
   ]
  },
  {
   "cell_type": "code",
   "execution_count": 3,
   "metadata": {
    "hidden": true
   },
   "outputs": [
    {
     "data": {
      "text/html": [
       "<div>\n",
       "<style scoped>\n",
       "    .dataframe tbody tr th:only-of-type {\n",
       "        vertical-align: middle;\n",
       "    }\n",
       "\n",
       "    .dataframe tbody tr th {\n",
       "        vertical-align: top;\n",
       "    }\n",
       "\n",
       "    .dataframe thead th {\n",
       "        text-align: right;\n",
       "    }\n",
       "</style>\n",
       "<table border=\"1\" class=\"dataframe\">\n",
       "  <thead>\n",
       "    <tr style=\"text-align: right;\">\n",
       "      <th></th>\n",
       "      <th>f</th>\n",
       "      <th>alphas</th>\n",
       "      <th>B</th>\n",
       "      <th>alpha_weak</th>\n",
       "      <th>sfs</th>\n",
       "      <th>path</th>\n",
       "    </tr>\n",
       "  </thead>\n",
       "  <tbody>\n",
       "    <tr>\n",
       "      <th>0</th>\n",
       "      <td>0.001001</td>\n",
       "      <td>-0.647849</td>\n",
       "      <td>0.200</td>\n",
       "      <td>0.1</td>\n",
       "      <td>Neutral + deleterious</td>\n",
       "      <td>no_demog_0.4_0.1_0.2</td>\n",
       "    </tr>\n",
       "    <tr>\n",
       "      <th>1</th>\n",
       "      <td>0.002002</td>\n",
       "      <td>-0.407424</td>\n",
       "      <td>0.200</td>\n",
       "      <td>0.1</td>\n",
       "      <td>Neutral + deleterious</td>\n",
       "      <td>no_demog_0.4_0.1_0.2</td>\n",
       "    </tr>\n",
       "    <tr>\n",
       "      <th>2</th>\n",
       "      <td>0.003003</td>\n",
       "      <td>-0.332796</td>\n",
       "      <td>0.200</td>\n",
       "      <td>0.1</td>\n",
       "      <td>Neutral + deleterious</td>\n",
       "      <td>no_demog_0.4_0.1_0.2</td>\n",
       "    </tr>\n",
       "    <tr>\n",
       "      <th>3</th>\n",
       "      <td>0.004004</td>\n",
       "      <td>-0.281825</td>\n",
       "      <td>0.200</td>\n",
       "      <td>0.1</td>\n",
       "      <td>Neutral + deleterious</td>\n",
       "      <td>no_demog_0.4_0.1_0.2</td>\n",
       "    </tr>\n",
       "    <tr>\n",
       "      <th>4</th>\n",
       "      <td>0.005005</td>\n",
       "      <td>-0.245331</td>\n",
       "      <td>0.200</td>\n",
       "      <td>0.1</td>\n",
       "      <td>Neutral + deleterious</td>\n",
       "      <td>no_demog_0.4_0.1_0.2</td>\n",
       "    </tr>\n",
       "    <tr>\n",
       "      <th>...</th>\n",
       "      <td>...</td>\n",
       "      <td>...</td>\n",
       "      <td>...</td>\n",
       "      <td>...</td>\n",
       "      <td>...</td>\n",
       "      <td>...</td>\n",
       "    </tr>\n",
       "    <tr>\n",
       "      <th>994</th>\n",
       "      <td>0.995996</td>\n",
       "      <td>0.066204</td>\n",
       "      <td>0.999</td>\n",
       "      <td>0.3</td>\n",
       "      <td>All alleles</td>\n",
       "      <td>no_demog_0.4_0.3_0.999</td>\n",
       "    </tr>\n",
       "    <tr>\n",
       "      <th>995</th>\n",
       "      <td>0.996997</td>\n",
       "      <td>0.084752</td>\n",
       "      <td>0.999</td>\n",
       "      <td>0.3</td>\n",
       "      <td>All alleles</td>\n",
       "      <td>no_demog_0.4_0.3_0.999</td>\n",
       "    </tr>\n",
       "    <tr>\n",
       "      <th>996</th>\n",
       "      <td>0.997998</td>\n",
       "      <td>0.106332</td>\n",
       "      <td>0.999</td>\n",
       "      <td>0.3</td>\n",
       "      <td>All alleles</td>\n",
       "      <td>no_demog_0.4_0.3_0.999</td>\n",
       "    </tr>\n",
       "    <tr>\n",
       "      <th>997</th>\n",
       "      <td>0.998999</td>\n",
       "      <td>0.035028</td>\n",
       "      <td>0.999</td>\n",
       "      <td>0.3</td>\n",
       "      <td>All alleles</td>\n",
       "      <td>no_demog_0.4_0.3_0.999</td>\n",
       "    </tr>\n",
       "    <tr>\n",
       "      <th>998</th>\n",
       "      <td>1.000000</td>\n",
       "      <td>0.116046</td>\n",
       "      <td>0.999</td>\n",
       "      <td>0.3</td>\n",
       "      <td>All alleles</td>\n",
       "      <td>no_demog_0.4_0.3_0.999</td>\n",
       "    </tr>\n",
       "  </tbody>\n",
       "</table>\n",
       "<p>23976 rows × 6 columns</p>\n",
       "</div>"
      ],
      "text/plain": [
       "            f    alphas      B  alpha_weak                    sfs  \\\n",
       "0    0.001001 -0.647849  0.200         0.1  Neutral + deleterious   \n",
       "1    0.002002 -0.407424  0.200         0.1  Neutral + deleterious   \n",
       "2    0.003003 -0.332796  0.200         0.1  Neutral + deleterious   \n",
       "3    0.004004 -0.281825  0.200         0.1  Neutral + deleterious   \n",
       "4    0.005005 -0.245331  0.200         0.1  Neutral + deleterious   \n",
       "..        ...       ...    ...         ...                    ...   \n",
       "994  0.995996  0.066204  0.999         0.3            All alleles   \n",
       "995  0.996997  0.084752  0.999         0.3            All alleles   \n",
       "996  0.997998  0.106332  0.999         0.3            All alleles   \n",
       "997  0.998999  0.035028  0.999         0.3            All alleles   \n",
       "998  1.000000  0.116046  0.999         0.3            All alleles   \n",
       "\n",
       "                       path  \n",
       "0      no_demog_0.4_0.1_0.2  \n",
       "1      no_demog_0.4_0.1_0.2  \n",
       "2      no_demog_0.4_0.1_0.2  \n",
       "3      no_demog_0.4_0.1_0.2  \n",
       "4      no_demog_0.4_0.1_0.2  \n",
       "..                      ...  \n",
       "994  no_demog_0.4_0.3_0.999  \n",
       "995  no_demog_0.4_0.3_0.999  \n",
       "996  no_demog_0.4_0.3_0.999  \n",
       "997  no_demog_0.4_0.3_0.999  \n",
       "998  no_demog_0.4_0.3_0.999  \n",
       "\n",
       "[23976 rows x 6 columns]"
      ]
     },
     "execution_count": 3,
     "metadata": {},
     "output_type": "execute_result"
    }
   ],
   "source": [
    "df,df_alpha = save_simulated_alphas(sim_table);\n",
    "df_alpha"
   ]
  },
  {
   "cell_type": "code",
   "execution_count": 6,
   "metadata": {
    "hidden": true
   },
   "outputs": [],
   "source": [
    "df = df.round(3)\n",
    "df_alpha = df_alpha.round(3)"
   ]
  },
  {
   "cell_type": "code",
   "execution_count": 42,
   "metadata": {
    "hidden": true
   },
   "outputs": [],
   "source": [
    "df.to_csv(PATH + '/results/simulations/slim/isolation/simulated_alphas.tsv',index=False,sep='\\t',header=True)"
   ]
  },
  {
   "cell_type": "code",
   "execution_count": 43,
   "metadata": {
    "hidden": true
   },
   "outputs": [],
   "source": [
    "df_alpha.to_csv(PATH + '/results/simulations/slim/isolation/simulated_to_plot_all.tsv',index=False,sep='\\t',header=True)"
   ]
  },
  {
   "cell_type": "code",
   "execution_count": 7,
   "metadata": {
    "hidden": true
   },
   "outputs": [],
   "source": [
    "df_alpha['path'] = pd.Categorical(df_alpha['path'], [\"isolation_0.4_0.1_0.2\",\"isolation_0.4_0.2_0.2\",\"isolation_0.4_0.3_0.2\",\"isolation_0.4_0.1_0.4\",\"isolation_0.4_0.2_0.4\",\"isolation_0.4_0.3_0.4\",\"isolation_0.4_0.1_0.8\",\"isolation_0.4_0.2_0.8\",\"isolation_0.4_0.3_0.8\",\"isolation_0.4_0.1_0.999\",\"isolation_0.4_0.2_0.999\",\"isolation_0.4_0.3_0.999\"])"
   ]
  },
  {
   "cell_type": "code",
   "execution_count": 46,
   "metadata": {},
   "outputs": [],
   "source": [
    "df_alpha = pd.read_csv(PATH + '/results/simulations/slim/no_demog/simulated_to_plot_all.tsv',sep='\\t')"
   ]
  },
  {
   "cell_type": "code",
   "execution_count": 7,
   "metadata": {},
   "outputs": [
    {
     "name": "stderr",
     "output_type": "stream",
     "text": [
      "/home/jmurga/.mamba/lib/python3.9/site-packages/rpy2/robjects/pandas2ri.py:56: UserWarning: DataFrame contains duplicated elements in the index, which will lead to loss of the row names in the resulting data.frame\n",
      "  warnings.warn('DataFrame contains duplicated elements in the index, '\n",
      "R[write to console]: Saving 6.67 x 6.67 in image\n",
      "\n",
      "R[write to console]: Saving 6.67 x 6.67 in image\n",
      "\n",
      "R[write to console]: Saving 6.67 x 6.67 in image\n",
      "\n"
     ]
    },
    {
     "data": {
      "image/png": "[encoded data removed]"
     },
     "metadata": {},
     "output_type": "display_data"
    }
   ],
   "source": [
    "%%R -i PATH -i df_alpha \n",
    "p = plot_simulated_alphas(df = df_alpha,output = paste0(PATH,\"/results/simulations/slim/no_demog/simulated_alphas_dup.svg\"))\n",
    "p = plot_simulated_alphas(df = df_alpha,output = paste0(PATH,\"/results/simulations/slim/no_demog/simulated_alphas_dup.pdf\"))\n",
    "p = plot_simulated_alphas(df = df_alpha,output = paste0(PATH,\"/results/simulations/slim/no_demog/simulated_alphas_dup.png\"))\n",
    "\n",
    "p"
   ]
  },
  {
   "cell_type": "code",
   "execution_count": 5,
   "metadata": {},
   "outputs": [],
   "source": [
    "df_alpha['group'] = df_alpha.path + \": \" + df_alpha.sfs"
   ]
  },
  {
   "cell_type": "code",
   "execution_count": 8,
   "metadata": {},
   "outputs": [],
   "source": [
    "df.to_csv(PATH + '/results/simulations/slim/isolation/simulated_alphas.tsv',index=False,sep='\\t',header=True)\n",
    "df_alpha.to_csv(PATH + '/results/simulations/slim/isolation/simulated_to_plot_all.tsv',index=False,sep='\\t',header=True)"
   ]
  },
  {
   "cell_type": "code",
   "execution_count": 8,
   "metadata": {},
   "outputs": [],
   "source": [
    "df = pd.read_csv(PATH + '/results/simulations/slim/isolation/simulated_alphas.tsv',sep='\\t')\n",
    "df_alpha = pd.read_csv(PATH + '/results/simulations/slim/isolation/simulated_to_plot_all.tsv',sep='\\t')"
   ]
  },
  {
   "cell_type": "code",
   "execution_count": 13,
   "metadata": {},
   "outputs": [
    {
     "data": {
      "text/html": [
       "<div>\n",
       "<style scoped>\n",
       "    .dataframe tbody tr th:only-of-type {\n",
       "        vertical-align: middle;\n",
       "    }\n",
       "\n",
       "    .dataframe tbody tr th {\n",
       "        vertical-align: top;\n",
       "    }\n",
       "\n",
       "    .dataframe thead th {\n",
       "        text-align: right;\n",
       "    }\n",
       "</style>\n",
       "<table border=\"1\" class=\"dataframe\">\n",
       "  <thead>\n",
       "    <tr style=\"text-align: right;\">\n",
       "      <th></th>\n",
       "      <th>f</th>\n",
       "      <th>alphas</th>\n",
       "      <th>B</th>\n",
       "      <th>alpha_weak</th>\n",
       "      <th>sfs</th>\n",
       "      <th>path</th>\n",
       "      <th>group</th>\n",
       "    </tr>\n",
       "  </thead>\n",
       "  <tbody>\n",
       "    <tr>\n",
       "      <th>0</th>\n",
       "      <td>0.000757</td>\n",
       "      <td>-0.578554</td>\n",
       "      <td>0.200</td>\n",
       "      <td>0.1</td>\n",
       "      <td>Neutral + deleterious</td>\n",
       "      <td>isolation_0.4_0.1_0.2</td>\n",
       "      <td>isolation_0.4_0.1_0.2: Neutral + deleterious</td>\n",
       "    </tr>\n",
       "    <tr>\n",
       "      <th>1</th>\n",
       "      <td>0.001514</td>\n",
       "      <td>-0.286270</td>\n",
       "      <td>0.200</td>\n",
       "      <td>0.1</td>\n",
       "      <td>Neutral + deleterious</td>\n",
       "      <td>isolation_0.4_0.1_0.2</td>\n",
       "      <td>isolation_0.4_0.1_0.2: Neutral + deleterious</td>\n",
       "    </tr>\n",
       "    <tr>\n",
       "      <th>2</th>\n",
       "      <td>0.002271</td>\n",
       "      <td>-0.206708</td>\n",
       "      <td>0.200</td>\n",
       "      <td>0.1</td>\n",
       "      <td>Neutral + deleterious</td>\n",
       "      <td>isolation_0.4_0.1_0.2</td>\n",
       "      <td>isolation_0.4_0.1_0.2: Neutral + deleterious</td>\n",
       "    </tr>\n",
       "    <tr>\n",
       "      <th>3</th>\n",
       "      <td>0.003028</td>\n",
       "      <td>-0.164911</td>\n",
       "      <td>0.200</td>\n",
       "      <td>0.1</td>\n",
       "      <td>Neutral + deleterious</td>\n",
       "      <td>isolation_0.4_0.1_0.2</td>\n",
       "      <td>isolation_0.4_0.1_0.2: Neutral + deleterious</td>\n",
       "    </tr>\n",
       "    <tr>\n",
       "      <th>4</th>\n",
       "      <td>0.003785</td>\n",
       "      <td>-0.140958</td>\n",
       "      <td>0.200</td>\n",
       "      <td>0.1</td>\n",
       "      <td>Neutral + deleterious</td>\n",
       "      <td>isolation_0.4_0.1_0.2</td>\n",
       "      <td>isolation_0.4_0.1_0.2: Neutral + deleterious</td>\n",
       "    </tr>\n",
       "    <tr>\n",
       "      <th>...</th>\n",
       "      <td>...</td>\n",
       "      <td>...</td>\n",
       "      <td>...</td>\n",
       "      <td>...</td>\n",
       "      <td>...</td>\n",
       "      <td>...</td>\n",
       "      <td>...</td>\n",
       "    </tr>\n",
       "    <tr>\n",
       "      <th>31699</th>\n",
       "      <td>0.996972</td>\n",
       "      <td>0.052581</td>\n",
       "      <td>0.999</td>\n",
       "      <td>0.3</td>\n",
       "      <td>All alleles</td>\n",
       "      <td>isolation_0.4_0.3_0.999</td>\n",
       "      <td>isolation_0.4_0.3_0.999: All alleles</td>\n",
       "    </tr>\n",
       "    <tr>\n",
       "      <th>31700</th>\n",
       "      <td>0.997729</td>\n",
       "      <td>0.064737</td>\n",
       "      <td>0.999</td>\n",
       "      <td>0.3</td>\n",
       "      <td>All alleles</td>\n",
       "      <td>isolation_0.4_0.3_0.999</td>\n",
       "      <td>isolation_0.4_0.3_0.999: All alleles</td>\n",
       "    </tr>\n",
       "    <tr>\n",
       "      <th>31701</th>\n",
       "      <td>0.998486</td>\n",
       "      <td>0.248856</td>\n",
       "      <td>0.999</td>\n",
       "      <td>0.3</td>\n",
       "      <td>All alleles</td>\n",
       "      <td>isolation_0.4_0.3_0.999</td>\n",
       "      <td>isolation_0.4_0.3_0.999: All alleles</td>\n",
       "    </tr>\n",
       "    <tr>\n",
       "      <th>31702</th>\n",
       "      <td>0.999243</td>\n",
       "      <td>0.308824</td>\n",
       "      <td>0.999</td>\n",
       "      <td>0.3</td>\n",
       "      <td>All alleles</td>\n",
       "      <td>isolation_0.4_0.3_0.999</td>\n",
       "      <td>isolation_0.4_0.3_0.999: All alleles</td>\n",
       "    </tr>\n",
       "    <tr>\n",
       "      <th>31703</th>\n",
       "      <td>1.000000</td>\n",
       "      <td>0.316419</td>\n",
       "      <td>0.999</td>\n",
       "      <td>0.3</td>\n",
       "      <td>All alleles</td>\n",
       "      <td>isolation_0.4_0.3_0.999</td>\n",
       "      <td>isolation_0.4_0.3_0.999: All alleles</td>\n",
       "    </tr>\n",
       "  </tbody>\n",
       "</table>\n",
       "<p>31704 rows × 7 columns</p>\n",
       "</div>"
      ],
      "text/plain": [
       "              f    alphas      B  alpha_weak                    sfs  \\\n",
       "0      0.000757 -0.578554  0.200         0.1  Neutral + deleterious   \n",
       "1      0.001514 -0.286270  0.200         0.1  Neutral + deleterious   \n",
       "2      0.002271 -0.206708  0.200         0.1  Neutral + deleterious   \n",
       "3      0.003028 -0.164911  0.200         0.1  Neutral + deleterious   \n",
       "4      0.003785 -0.140958  0.200         0.1  Neutral + deleterious   \n",
       "...         ...       ...    ...         ...                    ...   \n",
       "31699  0.996972  0.052581  0.999         0.3            All alleles   \n",
       "31700  0.997729  0.064737  0.999         0.3            All alleles   \n",
       "31701  0.998486  0.248856  0.999         0.3            All alleles   \n",
       "31702  0.999243  0.308824  0.999         0.3            All alleles   \n",
       "31703  1.000000  0.316419  0.999         0.3            All alleles   \n",
       "\n",
       "                          path                                         group  \n",
       "0        isolation_0.4_0.1_0.2  isolation_0.4_0.1_0.2: Neutral + deleterious  \n",
       "1        isolation_0.4_0.1_0.2  isolation_0.4_0.1_0.2: Neutral + deleterious  \n",
       "2        isolation_0.4_0.1_0.2  isolation_0.4_0.1_0.2: Neutral + deleterious  \n",
       "3        isolation_0.4_0.1_0.2  isolation_0.4_0.1_0.2: Neutral + deleterious  \n",
       "4        isolation_0.4_0.1_0.2  isolation_0.4_0.1_0.2: Neutral + deleterious  \n",
       "...                        ...                                           ...  \n",
       "31699  isolation_0.4_0.3_0.999          isolation_0.4_0.3_0.999: All alleles  \n",
       "31700  isolation_0.4_0.3_0.999          isolation_0.4_0.3_0.999: All alleles  \n",
       "31701  isolation_0.4_0.3_0.999          isolation_0.4_0.3_0.999: All alleles  \n",
       "31702  isolation_0.4_0.3_0.999          isolation_0.4_0.3_0.999: All alleles  \n",
       "31703  isolation_0.4_0.3_0.999          isolation_0.4_0.3_0.999: All alleles  \n",
       "\n",
       "[31704 rows x 7 columns]"
      ]
     },
     "execution_count": 13,
     "metadata": {},
     "output_type": "execute_result"
    }
   ],
   "source": [
    "df_alpha"
   ]
  },
  {
   "cell_type": "code",
   "execution_count": 18,
   "metadata": {},
   "outputs": [
    {
     "name": "stderr",
     "output_type": "stream",
     "text": [
      "R[write to console]: Saving 6.67 x 6.67 in image\n",
      "\n"
     ]
    },
    {
     "data": {
      "image/png": "[encoded data removed]"
     },
     "metadata": {},
     "output_type": "display_data"
    }
   ],
   "source": [
    "%%R -i PATH -i df_alpha \n",
    "p = plot_simulated_alphas(df = df_alpha,output = '/home/jmurga/test.svg')\n",
    "p"
   ]
  },
  {
   "cell_type": "markdown",
   "metadata": {
    "tags": []
   },
   "source": [
    "# Two-epoch model"
   ]
  },
  {
   "cell_type": "markdown",
   "metadata": {
    "jp-MarkdownHeadingCollapsed": true,
    "tags": []
   },
   "source": [
    "## Running SLiM"
   ]
  },
  {
   "cell_type": "markdown",
   "metadata": {},
   "source": [
    "We run SLiM into and HPC enviroment due to the amount of replicas. Please copy outputs to the proper path after run the simulations. Here is the SLURM scripts:"
   ]
  },
  {
   "cell_type": "markdown",
   "metadata": {},
   "source": [
    "#### Exponential growth"
   ]
  },
  {
   "cell_type": "markdown",
   "metadata": {},
   "source": [
    "```bash\n",
    "#!/bin/bash\n",
    "\n",
    "#SBATCH --partition=standard\n",
    "#SBATCH --job-name=isolation\n",
    "#SBATCH --time=12:00:00\n",
    "#SBATCH --mail-type=ALL\n",
    "#SBATCH --mail-user=jesus.murga@uab.cat\n",
    "#SBACTH --array=1-50000\n",
    "\n",
    "DPATH=\"/xdisk/denard/mig2020/rsgrps/denard\"\n",
    "\n",
    "module load slim\n",
    "module load parallel\n",
    "\n",
    "# Each command takes about 12hours to run using this configuration\n",
    "\n",
    "parallel -j200 -u \"slim -d ft=5.0 -d nF={} -d sample_size=50 -d mu=6.37967e-17 -d p=\\'${DPATH}/jmurga/simulations/no_demog/exp_moderate_0.999/\\' ${DPATH}/jmurga/src/two_epoch_rescaled.slim\" ::: `seq 1 50000`\n",
    "parallel -j200 -u \"slim -d ft=50.0 -d nF={} -d sample_size=50 -d mu=6.37967e-17 -d p=\\'${DPATH}/jmurga/simulations/no_demog/exp_strong_0.999/\\' ${DPATH}/jmurga/src/two_epoch_rescaled.slim\" ::: `seq 1 50000`\n",
    "\n",
    "parallel -j200 -u \"slim -d ft=5.0 -d nF={} -d sample_size=50 -d mu=6.37967e-7 -d p=\\'${DPATH}/jmurga/simulations/no_demog/exp_moderate_0.4/\\' ${DPATH}/jmurga/src/two_epoch_rescaled.slim\" ::: `seq 1 50000`\n",
    "parallel -j200 -u \"slim -d ft=50.0 -d nF={} -d sample_size=50 -d mu=6.37967e-7 -d p=\\'${DPATH}/jmurga/simulations/no_demog/exp_strong_0.4/\\' ${DPATH}/jmurga/src/two_epoch_rescaled.slim\" ::: `seq 1 50000` \n",
    "```"
   ]
  },
  {
   "cell_type": "markdown",
   "metadata": {},
   "source": [
    "#### Bottleneck"
   ]
  },
  {
   "cell_type": "markdown",
   "metadata": {},
   "source": [
    "```bash\n",
    "#!/bin/bash\n",
    "\n",
    "#SBATCH --partition=standard\n",
    "#SBATCH --job-name=isolation\n",
    "#SBATCH --time=12:00:00\n",
    "#SBATCH --mail-type=ALL\n",
    "#SBATCH --mail-user=jesus.murga@uab.cat\n",
    "#SBACTH --array=1-50000\n",
    "\n",
    "DPATH=\"/xdisk/denard/mig2020/rsgrps/denard\"\n",
    "\n",
    "module load slim\n",
    "module load parallel\n",
    "\n",
    "# Each command takes about 12hours to run using this configuration\n",
    "\n",
    "parallel -j200 -u \"slim -d ft=0.2 -d nF={} -d sample_size=50 -d mu=6.37967e-17 -d p=\\'${DPATH}/jmurga/simulations/no_demog/bt_moderate_0.999/\\' ${DPATH}/jmurga/src/two_epoch_rescaled.slim\" ::: `seq 1 50000`\n",
    "parallel -j200 -u \"slim -d ft=0.05 -d nF={} -d sample_size=50 -d mu=6.37967e-17 -d p=\\'${DPATH}/jmurga/simulations/no_demog/bt_strong_0.999/\\' ${DPATH}/jmurga/src/two_epoch_rescaled.slim\" ::: `seq 1 50000`\n",
    "\n",
    "parallel -j200 -u \"slim -d ft=0.2 -d nF={} -d sample_size=50 -d mu=6.37967e-7 -d p=\\'${DPATH}/jmurga/simulations/no_demog/bt_moderate_0.4/\\' ${DPATH}/jmurga/src/two_epoch_rescaled.slim\" ::: `seq 1 50000`\n",
    "parallel -j200 -u \"slim -d ft=0.05 -d nF={} -d sample_size=50 -d mu=6.37967e-7 -d p=\\'${DPATH}/jmurga/simulations/no_demog/bt_strong_0.4/\\' ${DPATH}/jmurga/src/two_epoch_rescaled.slim\" ::: `seq 1 50000` \n",
    "```"
   ]
  }
 ],
 "metadata": {
  "kernelspec": {
   "display_name": "Python 3 (ipykernel)",
   "language": "python",
   "name": "python3"
  },
  "language_info": {
   "codemirror_mode": {
    "name": "ipython",
    "version": 3
   },
   "file_extension": ".py",
   "mimetype": "text/x-python",
   "name": "python",
   "nbconvert_exporter": "python",
   "pygments_lexer": "ipython3",
   "version": "3.9.10"
  },
  "toc": {
   "base_numbering": 1,
   "nav_menu": {},
   "number_sections": true,
   "sideBar": true,
   "skip_h1_title": false,
   "title_cell": "Table of Contents",
   "title_sidebar": "Contents",
   "toc_cell": false,
   "toc_position": {
    "height": "calc(100% - 180px)",
    "left": "10px",
    "top": "150px",
    "width": "165px"
   },
   "toc_section_display": true,
   "toc_window_display": false
  },
  "toc-autonumbering": true,
  "toc-showcode": true,
  "toc-showmarkdowntxt": true,
  "toc-showtags": false,
  "varInspector": {
   "cols": {
    "lenName": 16,
    "lenType": 16,
    "lenVar": 40
   },
   "kernels_config": {
    "python": {
     "delete_cmd_postfix": "",
     "delete_cmd_prefix": "del ",
     "library": "var_list.py",
     "varRefreshCmd": "print(var_dic_list())"
    },
    "r": {
     "delete_cmd_postfix": ") ",
     "delete_cmd_prefix": "rm(",
     "library": "var_list.r",
     "varRefreshCmd": "cat(var_dic_list()) "
    }
   },
   "types_to_exclude": [
    "module",
    "function",
    "builtin_function_or_method",
    "instance",
    "_Feature"
   ],
   "window_display": false
  }
 },
 "nbformat": 4,
 "nbformat_minor": 4
}
